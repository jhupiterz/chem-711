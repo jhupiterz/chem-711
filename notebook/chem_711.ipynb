{
 "cells": [
  {
   "cell_type": "markdown",
   "metadata": {},
   "source": [
    "# PCA, K-means, and Hierarchical clustering of PLFA data of microbialites from Cenote Azul"
   ]
  },
  {
   "cell_type": "markdown",
   "metadata": {},
   "source": [
    "**Author:** Julie Hartz </br>\n",
    "**Date:** 24 October 2024"
   ]
  },
  {
   "cell_type": "markdown",
   "metadata": {},
   "source": [
    "## Imports"
   ]
  },
  {
   "cell_type": "code",
   "execution_count": 31,
   "metadata": {},
   "outputs": [],
   "source": [
    "import pandas as pd\n",
    "import plotly.express as px\n",
    "import plotly.graph_objects as go "
   ]
  },
  {
   "cell_type": "markdown",
   "metadata": {},
   "source": [
    "## Data loading and pre-processing"
   ]
  },
  {
   "cell_type": "code",
   "execution_count": 32,
   "metadata": {},
   "outputs": [
    {
     "data": {
      "text/html": [
       "<div>\n",
       "<style scoped>\n",
       "    .dataframe tbody tr th:only-of-type {\n",
       "        vertical-align: middle;\n",
       "    }\n",
       "\n",
       "    .dataframe tbody tr th {\n",
       "        vertical-align: top;\n",
       "    }\n",
       "\n",
       "    .dataframe thead th {\n",
       "        text-align: right;\n",
       "    }\n",
       "</style>\n",
       "<table border=\"1\" class=\"dataframe\">\n",
       "  <thead>\n",
       "    <tr style=\"text-align: right;\">\n",
       "      <th></th>\n",
       "      <th>total PLFA</th>\n",
       "      <th>mean point-wise dimension</th>\n",
       "      <th>stdev point-wise dimension</th>\n",
       "      <th>skewness point-wise dimension</th>\n",
       "      <th>kurtosis point-wise dimension</th>\n",
       "      <th>Methyltetradecanoate (7) 14:0</th>\n",
       "      <th>Methyl-13-methyltetradecanoate (8) i-15:0</th>\n",
       "      <th>Methyl-12-methyltetradecanoate (9) a-15:0</th>\n",
       "      <th>Methyl-14-methylpentadecanoate (13) i-16:0</th>\n",
       "      <th>Methyl-cis-9-hexadecenoate (14) 16:1</th>\n",
       "      <th>Methylhexadecanote (15) 16:0</th>\n",
       "      <th>Methyl-15-methylhexadecanoate (16) i-17:0</th>\n",
       "      <th>Methyl-cis-9,10-methylenehexadecanoate (17) 17:2</th>\n",
       "      <th>Methylheptadecanoate (18) 17:0</th>\n",
       "      <th>Methyl-cis-9,12-octadecadienoate (20) 18:2</th>\n",
       "      <th>Methyl-cis-9-octadecenoate (21) 18:1</th>\n",
       "      <th>Methyloctadecanoate (23) 18:0</th>\n",
       "    </tr>\n",
       "  </thead>\n",
       "  <tbody>\n",
       "    <tr>\n",
       "      <th>CA06a</th>\n",
       "      <td>1.973970</td>\n",
       "      <td>4.610000e-07</td>\n",
       "      <td>1.440000e-07</td>\n",
       "      <td>0.117980</td>\n",
       "      <td>0.525763</td>\n",
       "      <td>4.749213</td>\n",
       "      <td>6.503959</td>\n",
       "      <td>3.214133</td>\n",
       "      <td>0.563217</td>\n",
       "      <td>4.073159</td>\n",
       "      <td>0.000</td>\n",
       "      <td>0.879606</td>\n",
       "      <td>0.000000</td>\n",
       "      <td>0.527707</td>\n",
       "      <td>2.739597</td>\n",
       "      <td>9.362593</td>\n",
       "      <td>8.112187</td>\n",
       "    </tr>\n",
       "    <tr>\n",
       "      <th>CA06b</th>\n",
       "      <td>1.824357</td>\n",
       "      <td>9.570000e-07</td>\n",
       "      <td>2.890000e-07</td>\n",
       "      <td>-0.510403</td>\n",
       "      <td>0.330758</td>\n",
       "      <td>5.290313</td>\n",
       "      <td>7.928223</td>\n",
       "      <td>5.626187</td>\n",
       "      <td>0.665504</td>\n",
       "      <td>2.984355</td>\n",
       "      <td>0.000</td>\n",
       "      <td>0.603548</td>\n",
       "      <td>0.265902</td>\n",
       "      <td>0.383450</td>\n",
       "      <td>2.975520</td>\n",
       "      <td>10.690997</td>\n",
       "      <td>6.161357</td>\n",
       "    </tr>\n",
       "    <tr>\n",
       "      <th>CA06c</th>\n",
       "      <td>2.320800</td>\n",
       "      <td>6.190000e-07</td>\n",
       "      <td>2.890000e-07</td>\n",
       "      <td>-0.510403</td>\n",
       "      <td>0.330758</td>\n",
       "      <td>6.441569</td>\n",
       "      <td>6.848231</td>\n",
       "      <td>5.618179</td>\n",
       "      <td>0.683622</td>\n",
       "      <td>5.240838</td>\n",
       "      <td>0.000</td>\n",
       "      <td>0.531455</td>\n",
       "      <td>0.396580</td>\n",
       "      <td>0.430296</td>\n",
       "      <td>4.119776</td>\n",
       "      <td>14.452348</td>\n",
       "      <td>7.184185</td>\n",
       "    </tr>\n",
       "    <tr>\n",
       "      <th>CA10</th>\n",
       "      <td>0.658871</td>\n",
       "      <td>7.940000e-07</td>\n",
       "      <td>2.360000e-07</td>\n",
       "      <td>0.588772</td>\n",
       "      <td>0.425150</td>\n",
       "      <td>0.000000</td>\n",
       "      <td>2.892000</td>\n",
       "      <td>2.140000</td>\n",
       "      <td>0.762000</td>\n",
       "      <td>0.904000</td>\n",
       "      <td>7.172</td>\n",
       "      <td>0.794000</td>\n",
       "      <td>0.798000</td>\n",
       "      <td>0.000000</td>\n",
       "      <td>3.919000</td>\n",
       "      <td>2.808000</td>\n",
       "      <td>4.166000</td>\n",
       "    </tr>\n",
       "    <tr>\n",
       "      <th>CA20</th>\n",
       "      <td>0.620281</td>\n",
       "      <td>5.000000e-07</td>\n",
       "      <td>1.840000e-07</td>\n",
       "      <td>0.421384</td>\n",
       "      <td>0.168211</td>\n",
       "      <td>0.000000</td>\n",
       "      <td>3.596000</td>\n",
       "      <td>2.443000</td>\n",
       "      <td>0.854000</td>\n",
       "      <td>0.867000</td>\n",
       "      <td>6.284</td>\n",
       "      <td>0.938000</td>\n",
       "      <td>0.828000</td>\n",
       "      <td>0.000000</td>\n",
       "      <td>3.855000</td>\n",
       "      <td>1.928000</td>\n",
       "      <td>3.219000</td>\n",
       "    </tr>\n",
       "    <tr>\n",
       "      <th>CA30</th>\n",
       "      <td>0.215621</td>\n",
       "      <td>1.520000e-06</td>\n",
       "      <td>1.490000e-07</td>\n",
       "      <td>0.185906</td>\n",
       "      <td>-0.537746</td>\n",
       "      <td>0.000000</td>\n",
       "      <td>1.313000</td>\n",
       "      <td>1.152000</td>\n",
       "      <td>0.457000</td>\n",
       "      <td>0.438000</td>\n",
       "      <td>1.665</td>\n",
       "      <td>0.452000</td>\n",
       "      <td>0.000000</td>\n",
       "      <td>0.000000</td>\n",
       "      <td>0.822000</td>\n",
       "      <td>0.891000</td>\n",
       "      <td>1.435000</td>\n",
       "    </tr>\n",
       "    <tr>\n",
       "      <th>CA43</th>\n",
       "      <td>0.273049</td>\n",
       "      <td>1.120000e-06</td>\n",
       "      <td>4.990000e-07</td>\n",
       "      <td>-0.336747</td>\n",
       "      <td>-0.501993</td>\n",
       "      <td>0.000000</td>\n",
       "      <td>0.545000</td>\n",
       "      <td>0.362000</td>\n",
       "      <td>0.114000</td>\n",
       "      <td>0.200000</td>\n",
       "      <td>3.456</td>\n",
       "      <td>0.140000</td>\n",
       "      <td>0.100000</td>\n",
       "      <td>1.750000</td>\n",
       "      <td>1.589000</td>\n",
       "      <td>1.716000</td>\n",
       "      <td>1.049000</td>\n",
       "    </tr>\n",
       "    <tr>\n",
       "      <th>CA49</th>\n",
       "      <td>0.135918</td>\n",
       "      <td>2.740000e-06</td>\n",
       "      <td>8.680000e-07</td>\n",
       "      <td>0.987111</td>\n",
       "      <td>0.504095</td>\n",
       "      <td>0.000000</td>\n",
       "      <td>0.056000</td>\n",
       "      <td>0.014000</td>\n",
       "      <td>0.000000</td>\n",
       "      <td>0.000000</td>\n",
       "      <td>0.917</td>\n",
       "      <td>0.000000</td>\n",
       "      <td>0.000000</td>\n",
       "      <td>1.167000</td>\n",
       "      <td>1.128000</td>\n",
       "      <td>1.210000</td>\n",
       "      <td>0.945000</td>\n",
       "    </tr>\n",
       "  </tbody>\n",
       "</table>\n",
       "</div>"
      ],
      "text/plain": [
       "       total PLFA  mean point-wise dimension  stdev point-wise dimension  \\\n",
       "CA06a    1.973970               4.610000e-07                1.440000e-07   \n",
       "CA06b    1.824357               9.570000e-07                2.890000e-07   \n",
       "CA06c    2.320800               6.190000e-07                2.890000e-07   \n",
       "CA10     0.658871               7.940000e-07                2.360000e-07   \n",
       "CA20     0.620281               5.000000e-07                1.840000e-07   \n",
       "CA30     0.215621               1.520000e-06                1.490000e-07   \n",
       "CA43     0.273049               1.120000e-06                4.990000e-07   \n",
       "CA49     0.135918               2.740000e-06                8.680000e-07   \n",
       "\n",
       "       skewness point-wise dimension  kurtosis point-wise dimension  \\\n",
       "CA06a                       0.117980                       0.525763   \n",
       "CA06b                      -0.510403                       0.330758   \n",
       "CA06c                      -0.510403                       0.330758   \n",
       "CA10                        0.588772                       0.425150   \n",
       "CA20                        0.421384                       0.168211   \n",
       "CA30                        0.185906                      -0.537746   \n",
       "CA43                       -0.336747                      -0.501993   \n",
       "CA49                        0.987111                       0.504095   \n",
       "\n",
       "       Methyltetradecanoate (7) 14:0  \\\n",
       "CA06a                       4.749213   \n",
       "CA06b                       5.290313   \n",
       "CA06c                       6.441569   \n",
       "CA10                        0.000000   \n",
       "CA20                        0.000000   \n",
       "CA30                        0.000000   \n",
       "CA43                        0.000000   \n",
       "CA49                        0.000000   \n",
       "\n",
       "       Methyl-13-methyltetradecanoate (8) i-15:0  \\\n",
       "CA06a                                   6.503959   \n",
       "CA06b                                   7.928223   \n",
       "CA06c                                   6.848231   \n",
       "CA10                                    2.892000   \n",
       "CA20                                    3.596000   \n",
       "CA30                                    1.313000   \n",
       "CA43                                    0.545000   \n",
       "CA49                                    0.056000   \n",
       "\n",
       "       Methyl-12-methyltetradecanoate (9) a-15:0  \\\n",
       "CA06a                                   3.214133   \n",
       "CA06b                                   5.626187   \n",
       "CA06c                                   5.618179   \n",
       "CA10                                    2.140000   \n",
       "CA20                                    2.443000   \n",
       "CA30                                    1.152000   \n",
       "CA43                                    0.362000   \n",
       "CA49                                    0.014000   \n",
       "\n",
       "       Methyl-14-methylpentadecanoate (13) i-16:0  \\\n",
       "CA06a                                    0.563217   \n",
       "CA06b                                    0.665504   \n",
       "CA06c                                    0.683622   \n",
       "CA10                                     0.762000   \n",
       "CA20                                     0.854000   \n",
       "CA30                                     0.457000   \n",
       "CA43                                     0.114000   \n",
       "CA49                                     0.000000   \n",
       "\n",
       "       Methyl-cis-9-hexadecenoate (14) 16:1  Methylhexadecanote (15) 16:0  \\\n",
       "CA06a                              4.073159                         0.000   \n",
       "CA06b                              2.984355                         0.000   \n",
       "CA06c                              5.240838                         0.000   \n",
       "CA10                               0.904000                         7.172   \n",
       "CA20                               0.867000                         6.284   \n",
       "CA30                               0.438000                         1.665   \n",
       "CA43                               0.200000                         3.456   \n",
       "CA49                               0.000000                         0.917   \n",
       "\n",
       "       Methyl-15-methylhexadecanoate (16) i-17:0  \\\n",
       "CA06a                                   0.879606   \n",
       "CA06b                                   0.603548   \n",
       "CA06c                                   0.531455   \n",
       "CA10                                    0.794000   \n",
       "CA20                                    0.938000   \n",
       "CA30                                    0.452000   \n",
       "CA43                                    0.140000   \n",
       "CA49                                    0.000000   \n",
       "\n",
       "       Methyl-cis-9,10-methylenehexadecanoate (17) 17:2  \\\n",
       "CA06a                                          0.000000   \n",
       "CA06b                                          0.265902   \n",
       "CA06c                                          0.396580   \n",
       "CA10                                           0.798000   \n",
       "CA20                                           0.828000   \n",
       "CA30                                           0.000000   \n",
       "CA43                                           0.100000   \n",
       "CA49                                           0.000000   \n",
       "\n",
       "       Methylheptadecanoate (18) 17:0  \\\n",
       "CA06a                        0.527707   \n",
       "CA06b                        0.383450   \n",
       "CA06c                        0.430296   \n",
       "CA10                         0.000000   \n",
       "CA20                         0.000000   \n",
       "CA30                         0.000000   \n",
       "CA43                         1.750000   \n",
       "CA49                         1.167000   \n",
       "\n",
       "       Methyl-cis-9,12-octadecadienoate (20) 18:2  \\\n",
       "CA06a                                    2.739597   \n",
       "CA06b                                    2.975520   \n",
       "CA06c                                    4.119776   \n",
       "CA10                                     3.919000   \n",
       "CA20                                     3.855000   \n",
       "CA30                                     0.822000   \n",
       "CA43                                     1.589000   \n",
       "CA49                                     1.128000   \n",
       "\n",
       "       Methyl-cis-9-octadecenoate (21) 18:1  Methyloctadecanoate (23) 18:0  \n",
       "CA06a                              9.362593                       8.112187  \n",
       "CA06b                             10.690997                       6.161357  \n",
       "CA06c                             14.452348                       7.184185  \n",
       "CA10                               2.808000                       4.166000  \n",
       "CA20                               1.928000                       3.219000  \n",
       "CA30                               0.891000                       1.435000  \n",
       "CA43                               1.716000                       1.049000  \n",
       "CA49                               1.210000                       0.945000  "
      ]
     },
     "execution_count": 32,
     "metadata": {},
     "output_type": "execute_result"
    }
   ],
   "source": [
    "chem711_df = pd.read_csv(\"../data/chem711.csv\", index_col = 0)\n",
    "chem711_df = chem711_df.iloc[0:18]\n",
    "chem711_df = chem711_df[[\"CA06a\", \"CA06b\", \"CA06c\", \"CA10\", \"CA20\", \"CA30\", \"CA43\", \"CA49\"]]\n",
    "# Fill null values with 0\n",
    "chem711_df = chem711_df.fillna(value=0)\n",
    "# Transpose to have samples as rows\n",
    "chem711_df = chem711_df.T\n",
    "# Drop depth column\n",
    "chem711_df = chem711_df.drop(columns=[\"depth\"])\n",
    "chem711_df"
   ]
  },
  {
   "cell_type": "code",
   "execution_count": 33,
   "metadata": {},
   "outputs": [
    {
     "name": "stderr",
     "output_type": "stream",
     "text": [
      "/var/folders/8r/4jrrmbyd2hsbp5tjhv6zd1c00000gn/T/ipykernel_88807/3505329165.py:4: SettingWithCopyWarning:\n",
      "\n",
      "\n",
      "A value is trying to be set on a copy of a slice from a DataFrame.\n",
      "Try using .loc[row_indexer,col_indexer] = value instead\n",
      "\n",
      "See the caveats in the documentation: https://pandas.pydata.org/pandas-docs/stable/user_guide/indexing.html#returning-a-view-versus-a-copy\n",
      "\n"
     ]
    },
    {
     "data": {
      "text/html": [
       "<div>\n",
       "<style scoped>\n",
       "    .dataframe tbody tr th:only-of-type {\n",
       "        vertical-align: middle;\n",
       "    }\n",
       "\n",
       "    .dataframe tbody tr th {\n",
       "        vertical-align: top;\n",
       "    }\n",
       "\n",
       "    .dataframe thead th {\n",
       "        text-align: right;\n",
       "    }\n",
       "</style>\n",
       "<table border=\"1\" class=\"dataframe\">\n",
       "  <thead>\n",
       "    <tr style=\"text-align: right;\">\n",
       "      <th></th>\n",
       "      <th>Methyltetradecanoate (7) 14:0</th>\n",
       "      <th>Methyl-13-methyltetradecanoate (8) i-15:0</th>\n",
       "      <th>Methyl-12-methyltetradecanoate (9) a-15:0</th>\n",
       "      <th>Methyl-14-methylpentadecanoate (13) i-16:0</th>\n",
       "      <th>Methyl-cis-9-hexadecenoate (14) 16:1</th>\n",
       "      <th>Methylhexadecanote (15) 16:0</th>\n",
       "      <th>Methyl-15-methylhexadecanoate (16) i-17:0</th>\n",
       "      <th>Methyl-cis-9,10-methylenehexadecanoate (17) 17:2</th>\n",
       "      <th>Methylheptadecanoate (18) 17:0</th>\n",
       "      <th>Methyl-cis-9,12-octadecadienoate (20) 18:2</th>\n",
       "      <th>Methyl-cis-9-octadecenoate (21) 18:1</th>\n",
       "      <th>Methyloctadecanoate (23) 18:0</th>\n",
       "      <th>group</th>\n",
       "    </tr>\n",
       "  </thead>\n",
       "  <tbody>\n",
       "    <tr>\n",
       "      <th>CA06a</th>\n",
       "      <td>4.749213</td>\n",
       "      <td>6.503959</td>\n",
       "      <td>3.214133</td>\n",
       "      <td>0.563217</td>\n",
       "      <td>4.073159</td>\n",
       "      <td>0.000</td>\n",
       "      <td>0.879606</td>\n",
       "      <td>0.000000</td>\n",
       "      <td>0.527707</td>\n",
       "      <td>2.739597</td>\n",
       "      <td>9.362593</td>\n",
       "      <td>8.112187</td>\n",
       "      <td>shallow</td>\n",
       "    </tr>\n",
       "    <tr>\n",
       "      <th>CA06b</th>\n",
       "      <td>5.290313</td>\n",
       "      <td>7.928223</td>\n",
       "      <td>5.626187</td>\n",
       "      <td>0.665504</td>\n",
       "      <td>2.984355</td>\n",
       "      <td>0.000</td>\n",
       "      <td>0.603548</td>\n",
       "      <td>0.265902</td>\n",
       "      <td>0.383450</td>\n",
       "      <td>2.975520</td>\n",
       "      <td>10.690997</td>\n",
       "      <td>6.161357</td>\n",
       "      <td>shallow</td>\n",
       "    </tr>\n",
       "    <tr>\n",
       "      <th>CA06c</th>\n",
       "      <td>6.441569</td>\n",
       "      <td>6.848231</td>\n",
       "      <td>5.618179</td>\n",
       "      <td>0.683622</td>\n",
       "      <td>5.240838</td>\n",
       "      <td>0.000</td>\n",
       "      <td>0.531455</td>\n",
       "      <td>0.396580</td>\n",
       "      <td>0.430296</td>\n",
       "      <td>4.119776</td>\n",
       "      <td>14.452348</td>\n",
       "      <td>7.184185</td>\n",
       "      <td>shallow</td>\n",
       "    </tr>\n",
       "    <tr>\n",
       "      <th>CA10</th>\n",
       "      <td>0.000000</td>\n",
       "      <td>2.892000</td>\n",
       "      <td>2.140000</td>\n",
       "      <td>0.762000</td>\n",
       "      <td>0.904000</td>\n",
       "      <td>7.172</td>\n",
       "      <td>0.794000</td>\n",
       "      <td>0.798000</td>\n",
       "      <td>0.000000</td>\n",
       "      <td>3.919000</td>\n",
       "      <td>2.808000</td>\n",
       "      <td>4.166000</td>\n",
       "      <td>shallow</td>\n",
       "    </tr>\n",
       "    <tr>\n",
       "      <th>CA20</th>\n",
       "      <td>0.000000</td>\n",
       "      <td>3.596000</td>\n",
       "      <td>2.443000</td>\n",
       "      <td>0.854000</td>\n",
       "      <td>0.867000</td>\n",
       "      <td>6.284</td>\n",
       "      <td>0.938000</td>\n",
       "      <td>0.828000</td>\n",
       "      <td>0.000000</td>\n",
       "      <td>3.855000</td>\n",
       "      <td>1.928000</td>\n",
       "      <td>3.219000</td>\n",
       "      <td>shallow</td>\n",
       "    </tr>\n",
       "    <tr>\n",
       "      <th>CA30</th>\n",
       "      <td>0.000000</td>\n",
       "      <td>1.313000</td>\n",
       "      <td>1.152000</td>\n",
       "      <td>0.457000</td>\n",
       "      <td>0.438000</td>\n",
       "      <td>1.665</td>\n",
       "      <td>0.452000</td>\n",
       "      <td>0.000000</td>\n",
       "      <td>0.000000</td>\n",
       "      <td>0.822000</td>\n",
       "      <td>0.891000</td>\n",
       "      <td>1.435000</td>\n",
       "      <td>deep</td>\n",
       "    </tr>\n",
       "    <tr>\n",
       "      <th>CA43</th>\n",
       "      <td>0.000000</td>\n",
       "      <td>0.545000</td>\n",
       "      <td>0.362000</td>\n",
       "      <td>0.114000</td>\n",
       "      <td>0.200000</td>\n",
       "      <td>3.456</td>\n",
       "      <td>0.140000</td>\n",
       "      <td>0.100000</td>\n",
       "      <td>1.750000</td>\n",
       "      <td>1.589000</td>\n",
       "      <td>1.716000</td>\n",
       "      <td>1.049000</td>\n",
       "      <td>deep</td>\n",
       "    </tr>\n",
       "    <tr>\n",
       "      <th>CA49</th>\n",
       "      <td>0.000000</td>\n",
       "      <td>0.056000</td>\n",
       "      <td>0.014000</td>\n",
       "      <td>0.000000</td>\n",
       "      <td>0.000000</td>\n",
       "      <td>0.917</td>\n",
       "      <td>0.000000</td>\n",
       "      <td>0.000000</td>\n",
       "      <td>1.167000</td>\n",
       "      <td>1.128000</td>\n",
       "      <td>1.210000</td>\n",
       "      <td>0.945000</td>\n",
       "      <td>deep</td>\n",
       "    </tr>\n",
       "  </tbody>\n",
       "</table>\n",
       "</div>"
      ],
      "text/plain": [
       "       Methyltetradecanoate (7) 14:0  \\\n",
       "CA06a                       4.749213   \n",
       "CA06b                       5.290313   \n",
       "CA06c                       6.441569   \n",
       "CA10                        0.000000   \n",
       "CA20                        0.000000   \n",
       "CA30                        0.000000   \n",
       "CA43                        0.000000   \n",
       "CA49                        0.000000   \n",
       "\n",
       "       Methyl-13-methyltetradecanoate (8) i-15:0  \\\n",
       "CA06a                                   6.503959   \n",
       "CA06b                                   7.928223   \n",
       "CA06c                                   6.848231   \n",
       "CA10                                    2.892000   \n",
       "CA20                                    3.596000   \n",
       "CA30                                    1.313000   \n",
       "CA43                                    0.545000   \n",
       "CA49                                    0.056000   \n",
       "\n",
       "       Methyl-12-methyltetradecanoate (9) a-15:0  \\\n",
       "CA06a                                   3.214133   \n",
       "CA06b                                   5.626187   \n",
       "CA06c                                   5.618179   \n",
       "CA10                                    2.140000   \n",
       "CA20                                    2.443000   \n",
       "CA30                                    1.152000   \n",
       "CA43                                    0.362000   \n",
       "CA49                                    0.014000   \n",
       "\n",
       "       Methyl-14-methylpentadecanoate (13) i-16:0  \\\n",
       "CA06a                                    0.563217   \n",
       "CA06b                                    0.665504   \n",
       "CA06c                                    0.683622   \n",
       "CA10                                     0.762000   \n",
       "CA20                                     0.854000   \n",
       "CA30                                     0.457000   \n",
       "CA43                                     0.114000   \n",
       "CA49                                     0.000000   \n",
       "\n",
       "       Methyl-cis-9-hexadecenoate (14) 16:1  Methylhexadecanote (15) 16:0  \\\n",
       "CA06a                              4.073159                         0.000   \n",
       "CA06b                              2.984355                         0.000   \n",
       "CA06c                              5.240838                         0.000   \n",
       "CA10                               0.904000                         7.172   \n",
       "CA20                               0.867000                         6.284   \n",
       "CA30                               0.438000                         1.665   \n",
       "CA43                               0.200000                         3.456   \n",
       "CA49                               0.000000                         0.917   \n",
       "\n",
       "       Methyl-15-methylhexadecanoate (16) i-17:0  \\\n",
       "CA06a                                   0.879606   \n",
       "CA06b                                   0.603548   \n",
       "CA06c                                   0.531455   \n",
       "CA10                                    0.794000   \n",
       "CA20                                    0.938000   \n",
       "CA30                                    0.452000   \n",
       "CA43                                    0.140000   \n",
       "CA49                                    0.000000   \n",
       "\n",
       "       Methyl-cis-9,10-methylenehexadecanoate (17) 17:2  \\\n",
       "CA06a                                          0.000000   \n",
       "CA06b                                          0.265902   \n",
       "CA06c                                          0.396580   \n",
       "CA10                                           0.798000   \n",
       "CA20                                           0.828000   \n",
       "CA30                                           0.000000   \n",
       "CA43                                           0.100000   \n",
       "CA49                                           0.000000   \n",
       "\n",
       "       Methylheptadecanoate (18) 17:0  \\\n",
       "CA06a                        0.527707   \n",
       "CA06b                        0.383450   \n",
       "CA06c                        0.430296   \n",
       "CA10                         0.000000   \n",
       "CA20                         0.000000   \n",
       "CA30                         0.000000   \n",
       "CA43                         1.750000   \n",
       "CA49                         1.167000   \n",
       "\n",
       "       Methyl-cis-9,12-octadecadienoate (20) 18:2  \\\n",
       "CA06a                                    2.739597   \n",
       "CA06b                                    2.975520   \n",
       "CA06c                                    4.119776   \n",
       "CA10                                     3.919000   \n",
       "CA20                                     3.855000   \n",
       "CA30                                     0.822000   \n",
       "CA43                                     1.589000   \n",
       "CA49                                     1.128000   \n",
       "\n",
       "       Methyl-cis-9-octadecenoate (21) 18:1  Methyloctadecanoate (23) 18:0  \\\n",
       "CA06a                              9.362593                       8.112187   \n",
       "CA06b                             10.690997                       6.161357   \n",
       "CA06c                             14.452348                       7.184185   \n",
       "CA10                               2.808000                       4.166000   \n",
       "CA20                               1.928000                       3.219000   \n",
       "CA30                               0.891000                       1.435000   \n",
       "CA43                               1.716000                       1.049000   \n",
       "CA49                               1.210000                       0.945000   \n",
       "\n",
       "         group  \n",
       "CA06a  shallow  \n",
       "CA06b  shallow  \n",
       "CA06c  shallow  \n",
       "CA10   shallow  \n",
       "CA20   shallow  \n",
       "CA30      deep  \n",
       "CA43      deep  \n",
       "CA49      deep  "
      ]
     },
     "execution_count": 33,
     "metadata": {},
     "output_type": "execute_result"
    }
   ],
   "source": [
    "# Only extract PLFA data (morphometrics will be for another analysis) and add group column (shallow vs deep)\n",
    "plfa_dataset = chem711_df[chem711_df.columns[5:]]\n",
    "new_columns = [column.split(\" \")[2] for column in plfa_dataset.columns]\n",
    "plfa_dataset[\"group\"] = [\"shallow\", \"shallow\", \"shallow\", \"shallow\", \"shallow\", \"deep\", \"deep\", \"deep\"]\n",
    "plfa_dataset"
   ]
  },
  {
   "cell_type": "markdown",
   "metadata": {},
   "source": [
    "## Data scaling"
   ]
  },
  {
   "cell_type": "code",
   "execution_count": 34,
   "metadata": {},
   "outputs": [],
   "source": [
    "# Here chose a robust scaler, different normalizatoins and scalings can be tested in the interactive dashboard\n",
    "from sklearn.preprocessing import RobustScaler\n",
    "transformer = RobustScaler()\n",
    "data_scaled = transformer.fit_transform(plfa_dataset.drop(columns=[\"group\"]))"
   ]
  },
  {
   "cell_type": "markdown",
   "metadata": {},
   "source": [
    "## PCA analysis"
   ]
  },
  {
   "cell_type": "code",
   "execution_count": 35,
   "metadata": {},
   "outputs": [],
   "source": [
    "from sklearn.decomposition import PCA\n",
    " \n",
    "# Perform PCA on Scaled Data\n",
    "pca = PCA(n_components=5)\n",
    " \n",
    " \n",
    "pca_features = pca.fit_transform(data_scaled)\n",
    " \n",
    "# Principal components correlation coefficients\n",
    "loadings = pca.components_\n",
    " \n",
    "# Number of features before PCA\n",
    "n_features = pca.n_features_in_\n",
    " \n",
    "# Feature names before PCA\n",
    "feature_names = plfa_dataset.columns[0:-1]\n",
    " \n",
    "# PC names\n",
    "pc_list = [f'PC{i}' for i in list(range(1, n_features + 1))]\n",
    " \n",
    "# Match PC names to loadings\n",
    "pc_loadings = dict(zip(pc_list, loadings))\n",
    " \n",
    "# Matrix of corr coefs between feature names and PCs\n",
    "loadings_df = pd.DataFrame.from_dict(pc_loadings)\n",
    "loadings_df['feature_names'] = feature_names\n",
    "loadings_df = loadings_df.set_index('feature_names')"
   ]
  },
  {
   "cell_type": "code",
   "execution_count": 36,
   "metadata": {},
   "outputs": [
    {
     "data": {
      "text/plain": [
       "array([0.58050906, 0.30471811, 0.07173639, 0.02822795, 0.0100167 ])"
      ]
     },
     "execution_count": 36,
     "metadata": {},
     "output_type": "execute_result"
    }
   ],
   "source": [
    "pca.explained_variance_ratio_"
   ]
  },
  {
   "cell_type": "code",
   "execution_count": 37,
   "metadata": {},
   "outputs": [
    {
     "data": {
      "text/html": [
       "<div>\n",
       "<style scoped>\n",
       "    .dataframe tbody tr th:only-of-type {\n",
       "        vertical-align: middle;\n",
       "    }\n",
       "\n",
       "    .dataframe tbody tr th {\n",
       "        vertical-align: top;\n",
       "    }\n",
       "\n",
       "    .dataframe thead th {\n",
       "        text-align: right;\n",
       "    }\n",
       "</style>\n",
       "<table border=\"1\" class=\"dataframe\">\n",
       "  <thead>\n",
       "    <tr style=\"text-align: right;\">\n",
       "      <th></th>\n",
       "      <th>PC1</th>\n",
       "      <th>PC2</th>\n",
       "      <th>PC3</th>\n",
       "      <th>PC4</th>\n",
       "      <th>PC5</th>\n",
       "    </tr>\n",
       "    <tr>\n",
       "      <th>feature_names</th>\n",
       "      <th></th>\n",
       "      <th></th>\n",
       "      <th></th>\n",
       "      <th></th>\n",
       "      <th></th>\n",
       "    </tr>\n",
       "  </thead>\n",
       "  <tbody>\n",
       "    <tr>\n",
       "      <th>Methylheptadecanoate (18) 17:0</th>\n",
       "      <td>0.343764</td>\n",
       "      <td>-0.329127</td>\n",
       "      <td>-0.683294</td>\n",
       "      <td>0.326072</td>\n",
       "      <td>0.323703</td>\n",
       "    </tr>\n",
       "    <tr>\n",
       "      <th>Methylhexadecanote (15) 16:0</th>\n",
       "      <td>0.014893</td>\n",
       "      <td>0.481422</td>\n",
       "      <td>-0.352957</td>\n",
       "      <td>0.113476</td>\n",
       "      <td>-0.027744</td>\n",
       "    </tr>\n",
       "    <tr>\n",
       "      <th>Methyl-cis-9,10-methylenehexadecanoate (17) 17:2</th>\n",
       "      <td>-0.193775</td>\n",
       "      <td>0.372085</td>\n",
       "      <td>-0.447239</td>\n",
       "      <td>-0.311610</td>\n",
       "      <td>-0.104024</td>\n",
       "    </tr>\n",
       "    <tr>\n",
       "      <th>Methyltetradecanoate (7) 14:0</th>\n",
       "      <td>-0.218436</td>\n",
       "      <td>-0.314029</td>\n",
       "      <td>-0.041541</td>\n",
       "      <td>-0.036242</td>\n",
       "      <td>0.008465</td>\n",
       "    </tr>\n",
       "    <tr>\n",
       "      <th>Methyl-cis-9,12-octadecadienoate (20) 18:2</th>\n",
       "      <td>-0.246767</td>\n",
       "      <td>0.090614</td>\n",
       "      <td>-0.394907</td>\n",
       "      <td>-0.044147</td>\n",
       "      <td>-0.289924</td>\n",
       "    </tr>\n",
       "    <tr>\n",
       "      <th>Methyl-cis-9-octadecenoate (21) 18:1</th>\n",
       "      <td>-0.255596</td>\n",
       "      <td>-0.317484</td>\n",
       "      <td>-0.142447</td>\n",
       "      <td>-0.126380</td>\n",
       "      <td>-0.163978</td>\n",
       "    </tr>\n",
       "    <tr>\n",
       "      <th>Methyloctadecanoate (23) 18:0</th>\n",
       "      <td>-0.259757</td>\n",
       "      <td>-0.167899</td>\n",
       "      <td>-0.044776</td>\n",
       "      <td>0.342466</td>\n",
       "      <td>-0.205576</td>\n",
       "    </tr>\n",
       "    <tr>\n",
       "      <th>Methyl-13-methyltetradecanoate (8) i-15:0</th>\n",
       "      <td>-0.267017</td>\n",
       "      <td>-0.164756</td>\n",
       "      <td>-0.023327</td>\n",
       "      <td>0.062156</td>\n",
       "      <td>0.414705</td>\n",
       "    </tr>\n",
       "    <tr>\n",
       "      <th>Methyl-cis-9-hexadecenoate (14) 16:1</th>\n",
       "      <td>-0.285527</td>\n",
       "      <td>-0.304141</td>\n",
       "      <td>-0.070217</td>\n",
       "      <td>0.129688</td>\n",
       "      <td>-0.515244</td>\n",
       "    </tr>\n",
       "    <tr>\n",
       "      <th>Methyl-15-methylhexadecanoate (16) i-17:0</th>\n",
       "      <td>-0.340692</td>\n",
       "      <td>0.226488</td>\n",
       "      <td>0.115305</td>\n",
       "      <td>0.690255</td>\n",
       "      <td>0.179908</td>\n",
       "    </tr>\n",
       "    <tr>\n",
       "      <th>Methyl-12-methyltetradecanoate (9) a-15:0</th>\n",
       "      <td>-0.359518</td>\n",
       "      <td>-0.207295</td>\n",
       "      <td>-0.088494</td>\n",
       "      <td>-0.386185</td>\n",
       "      <td>0.449162</td>\n",
       "    </tr>\n",
       "    <tr>\n",
       "      <th>Methyl-14-methylpentadecanoate (13) i-16:0</th>\n",
       "      <td>-0.452213</td>\n",
       "      <td>0.267836</td>\n",
       "      <td>0.043980</td>\n",
       "      <td>-0.030145</td>\n",
       "      <td>0.242442</td>\n",
       "    </tr>\n",
       "  </tbody>\n",
       "</table>\n",
       "</div>"
      ],
      "text/plain": [
       "                                                       PC1       PC2  \\\n",
       "feature_names                                                          \n",
       "Methylheptadecanoate (18) 17:0                    0.343764 -0.329127   \n",
       "Methylhexadecanote (15) 16:0                      0.014893  0.481422   \n",
       "Methyl-cis-9,10-methylenehexadecanoate (17) 17:2 -0.193775  0.372085   \n",
       "Methyltetradecanoate (7) 14:0                    -0.218436 -0.314029   \n",
       "Methyl-cis-9,12-octadecadienoate (20) 18:2       -0.246767  0.090614   \n",
       "Methyl-cis-9-octadecenoate (21) 18:1             -0.255596 -0.317484   \n",
       "Methyloctadecanoate (23) 18:0                    -0.259757 -0.167899   \n",
       "Methyl-13-methyltetradecanoate (8) i-15:0        -0.267017 -0.164756   \n",
       "Methyl-cis-9-hexadecenoate (14) 16:1             -0.285527 -0.304141   \n",
       "Methyl-15-methylhexadecanoate (16) i-17:0        -0.340692  0.226488   \n",
       "Methyl-12-methyltetradecanoate (9) a-15:0        -0.359518 -0.207295   \n",
       "Methyl-14-methylpentadecanoate (13) i-16:0       -0.452213  0.267836   \n",
       "\n",
       "                                                       PC3       PC4       PC5  \n",
       "feature_names                                                                   \n",
       "Methylheptadecanoate (18) 17:0                   -0.683294  0.326072  0.323703  \n",
       "Methylhexadecanote (15) 16:0                     -0.352957  0.113476 -0.027744  \n",
       "Methyl-cis-9,10-methylenehexadecanoate (17) 17:2 -0.447239 -0.311610 -0.104024  \n",
       "Methyltetradecanoate (7) 14:0                    -0.041541 -0.036242  0.008465  \n",
       "Methyl-cis-9,12-octadecadienoate (20) 18:2       -0.394907 -0.044147 -0.289924  \n",
       "Methyl-cis-9-octadecenoate (21) 18:1             -0.142447 -0.126380 -0.163978  \n",
       "Methyloctadecanoate (23) 18:0                    -0.044776  0.342466 -0.205576  \n",
       "Methyl-13-methyltetradecanoate (8) i-15:0        -0.023327  0.062156  0.414705  \n",
       "Methyl-cis-9-hexadecenoate (14) 16:1             -0.070217  0.129688 -0.515244  \n",
       "Methyl-15-methylhexadecanoate (16) i-17:0         0.115305  0.690255  0.179908  \n",
       "Methyl-12-methyltetradecanoate (9) a-15:0        -0.088494 -0.386185  0.449162  \n",
       "Methyl-14-methylpentadecanoate (13) i-16:0        0.043980 -0.030145  0.242442  "
      ]
     },
     "execution_count": 37,
     "metadata": {},
     "output_type": "execute_result"
    }
   ],
   "source": [
    "loadings_df.sort_values(by=\"PC1\", ascending=False)"
   ]
  },
  {
   "cell_type": "markdown",
   "metadata": {},
   "source": [
    "## Visalization of PCA"
   ]
  },
  {
   "cell_type": "code",
   "execution_count": 38,
   "metadata": {},
   "outputs": [
    {
     "data": {
      "application/vnd.plotly.v1+json": {
       "config": {
        "plotlyServerURL": "https://plot.ly"
       },
       "data": [
        {
         "marker": {
          "size": 1
         },
         "mode": "markers+text",
         "text": [
          "14:0",
          "i-15:0",
          "a-15:0",
          "i-16:0",
          "16:1",
          "16:0",
          "i-17:0",
          "17:2",
          "17:0",
          "18:2",
          "18:1",
          "18:0"
         ],
         "textposition": "top left",
         "type": "scatter",
         "x": [
          -0.21843588976905348,
          -0.26701693552300987,
          -0.35951784012668175,
          -0.45221297139465255,
          -0.28552657852206786,
          0.014893053229796394,
          -0.3406922337825755,
          -0.19377483928657258,
          0.34376429389335567,
          -0.24676692589448687,
          -0.25559597713061855,
          -0.25975727855765235
         ],
         "xaxis": "x",
         "y": [
          -0.31402919134754703,
          -0.16475571252307641,
          -0.20729467223084558,
          0.2678359360008832,
          -0.304141414650714,
          0.48142154064849874,
          0.22648789862162327,
          0.3720849102956984,
          -0.3291266843027206,
          0.09061415388090423,
          -0.31748394823802656,
          -0.16789891969124907
         ],
         "yaxis": "y"
        },
        {
         "marker": {
          "color": "lightskyblue",
          "line": {
           "color": "midnightblue",
           "width": 2
          },
          "size": 10,
          "symbol": "circle"
         },
         "mode": "markers+text",
         "text": [
          "CA06a",
          "CA06b",
          "CA06c",
          "CA10",
          "CA20",
          "CA30",
          "CA43",
          "CA49"
         ],
         "textposition": "top right",
         "type": "scatter",
         "x": [
          -1.1272853706463122,
          -1.484617397073777,
          -1.9915130909282963,
          -0.756097894336149,
          -0.9934484862842324,
          0.9812485264092459,
          2.6068842322415295,
          2.7648294806179923
         ],
         "xaxis": "x2",
         "y": [
          -1.1159868657941459,
          -1.0229978740724326,
          -1.3872045528068035,
          1.9386608230891549,
          2.030651864618043,
          0.4994625357297262,
          -0.3781420757975798,
          -0.564443854965962
         ],
         "yaxis": "y2"
        }
       ],
       "layout": {
        "annotations": [
         {
          "arrowcolor": "blue",
          "arrowhead": 4,
          "arrowside": "end",
          "arrowsize": 1,
          "arrowwidth": 1,
          "ax": 0,
          "axref": "x",
          "ay": 0,
          "ayref": "y",
          "opacity": 0.3,
          "x": -0.21843588976905348,
          "xref": "x",
          "y": -0.31402919134754703,
          "yref": "y"
         },
         {
          "arrowcolor": "blue",
          "arrowhead": 4,
          "arrowside": "end",
          "arrowsize": 1,
          "arrowwidth": 1,
          "ax": 0,
          "axref": "x",
          "ay": 0,
          "ayref": "y",
          "opacity": 0.3,
          "x": -0.26701693552300987,
          "xref": "x",
          "y": -0.16475571252307641,
          "yref": "y"
         },
         {
          "arrowcolor": "blue",
          "arrowhead": 4,
          "arrowside": "end",
          "arrowsize": 1,
          "arrowwidth": 1,
          "ax": 0,
          "axref": "x",
          "ay": 0,
          "ayref": "y",
          "opacity": 0.3,
          "x": -0.35951784012668175,
          "xref": "x",
          "y": -0.20729467223084558,
          "yref": "y"
         },
         {
          "arrowcolor": "blue",
          "arrowhead": 4,
          "arrowside": "end",
          "arrowsize": 1,
          "arrowwidth": 1,
          "ax": 0,
          "axref": "x",
          "ay": 0,
          "ayref": "y",
          "opacity": 0.3,
          "x": -0.45221297139465255,
          "xref": "x",
          "y": 0.2678359360008832,
          "yref": "y"
         },
         {
          "arrowcolor": "blue",
          "arrowhead": 4,
          "arrowside": "end",
          "arrowsize": 1,
          "arrowwidth": 1,
          "ax": 0,
          "axref": "x",
          "ay": 0,
          "ayref": "y",
          "opacity": 0.3,
          "x": -0.28552657852206786,
          "xref": "x",
          "y": -0.304141414650714,
          "yref": "y"
         },
         {
          "arrowcolor": "blue",
          "arrowhead": 4,
          "arrowside": "end",
          "arrowsize": 1,
          "arrowwidth": 1,
          "ax": 0,
          "axref": "x",
          "ay": 0,
          "ayref": "y",
          "opacity": 0.3,
          "x": 0.014893053229796394,
          "xref": "x",
          "y": 0.48142154064849874,
          "yref": "y"
         },
         {
          "arrowcolor": "blue",
          "arrowhead": 4,
          "arrowside": "end",
          "arrowsize": 1,
          "arrowwidth": 1,
          "ax": 0,
          "axref": "x",
          "ay": 0,
          "ayref": "y",
          "opacity": 0.3,
          "x": -0.3406922337825755,
          "xref": "x",
          "y": 0.22648789862162327,
          "yref": "y"
         },
         {
          "arrowcolor": "blue",
          "arrowhead": 4,
          "arrowside": "end",
          "arrowsize": 1,
          "arrowwidth": 1,
          "ax": 0,
          "axref": "x",
          "ay": 0,
          "ayref": "y",
          "opacity": 0.3,
          "x": -0.19377483928657258,
          "xref": "x",
          "y": 0.3720849102956984,
          "yref": "y"
         },
         {
          "arrowcolor": "blue",
          "arrowhead": 4,
          "arrowside": "end",
          "arrowsize": 1,
          "arrowwidth": 1,
          "ax": 0,
          "axref": "x",
          "ay": 0,
          "ayref": "y",
          "opacity": 0.3,
          "x": 0.34376429389335567,
          "xref": "x",
          "y": -0.3291266843027206,
          "yref": "y"
         },
         {
          "arrowcolor": "blue",
          "arrowhead": 4,
          "arrowside": "end",
          "arrowsize": 1,
          "arrowwidth": 1,
          "ax": 0,
          "axref": "x",
          "ay": 0,
          "ayref": "y",
          "opacity": 0.3,
          "x": -0.24676692589448687,
          "xref": "x",
          "y": 0.09061415388090423,
          "yref": "y"
         },
         {
          "arrowcolor": "blue",
          "arrowhead": 4,
          "arrowside": "end",
          "arrowsize": 1,
          "arrowwidth": 1,
          "ax": 0,
          "axref": "x",
          "ay": 0,
          "ayref": "y",
          "opacity": 0.3,
          "x": -0.25559597713061855,
          "xref": "x",
          "y": -0.31748394823802656,
          "yref": "y"
         },
         {
          "arrowcolor": "blue",
          "arrowhead": 4,
          "arrowside": "end",
          "arrowsize": 1,
          "arrowwidth": 1,
          "ax": 0,
          "axref": "x",
          "ay": 0,
          "ayref": "y",
          "opacity": 0.3,
          "x": -0.25975727855765235,
          "xref": "x",
          "y": -0.16789891969124907,
          "yref": "y"
         }
        ],
        "height": 600,
        "margin": {
         "b": 0,
         "l": 0,
         "r": 0,
         "t": 0
        },
        "showlegend": false,
        "template": {
         "data": {
          "bar": [
           {
            "error_x": {
             "color": "#2a3f5f"
            },
            "error_y": {
             "color": "#2a3f5f"
            },
            "marker": {
             "line": {
              "color": "#E5ECF6",
              "width": 0.5
             },
             "pattern": {
              "fillmode": "overlay",
              "size": 10,
              "solidity": 0.2
             }
            },
            "type": "bar"
           }
          ],
          "barpolar": [
           {
            "marker": {
             "line": {
              "color": "#E5ECF6",
              "width": 0.5
             },
             "pattern": {
              "fillmode": "overlay",
              "size": 10,
              "solidity": 0.2
             }
            },
            "type": "barpolar"
           }
          ],
          "carpet": [
           {
            "aaxis": {
             "endlinecolor": "#2a3f5f",
             "gridcolor": "white",
             "linecolor": "white",
             "minorgridcolor": "white",
             "startlinecolor": "#2a3f5f"
            },
            "baxis": {
             "endlinecolor": "#2a3f5f",
             "gridcolor": "white",
             "linecolor": "white",
             "minorgridcolor": "white",
             "startlinecolor": "#2a3f5f"
            },
            "type": "carpet"
           }
          ],
          "choropleth": [
           {
            "colorbar": {
             "outlinewidth": 0,
             "ticks": ""
            },
            "type": "choropleth"
           }
          ],
          "contour": [
           {
            "colorbar": {
             "outlinewidth": 0,
             "ticks": ""
            },
            "colorscale": [
             [
              0,
              "#0d0887"
             ],
             [
              0.1111111111111111,
              "#46039f"
             ],
             [
              0.2222222222222222,
              "#7201a8"
             ],
             [
              0.3333333333333333,
              "#9c179e"
             ],
             [
              0.4444444444444444,
              "#bd3786"
             ],
             [
              0.5555555555555556,
              "#d8576b"
             ],
             [
              0.6666666666666666,
              "#ed7953"
             ],
             [
              0.7777777777777778,
              "#fb9f3a"
             ],
             [
              0.8888888888888888,
              "#fdca26"
             ],
             [
              1,
              "#f0f921"
             ]
            ],
            "type": "contour"
           }
          ],
          "contourcarpet": [
           {
            "colorbar": {
             "outlinewidth": 0,
             "ticks": ""
            },
            "type": "contourcarpet"
           }
          ],
          "heatmap": [
           {
            "colorbar": {
             "outlinewidth": 0,
             "ticks": ""
            },
            "colorscale": [
             [
              0,
              "#0d0887"
             ],
             [
              0.1111111111111111,
              "#46039f"
             ],
             [
              0.2222222222222222,
              "#7201a8"
             ],
             [
              0.3333333333333333,
              "#9c179e"
             ],
             [
              0.4444444444444444,
              "#bd3786"
             ],
             [
              0.5555555555555556,
              "#d8576b"
             ],
             [
              0.6666666666666666,
              "#ed7953"
             ],
             [
              0.7777777777777778,
              "#fb9f3a"
             ],
             [
              0.8888888888888888,
              "#fdca26"
             ],
             [
              1,
              "#f0f921"
             ]
            ],
            "type": "heatmap"
           }
          ],
          "heatmapgl": [
           {
            "colorbar": {
             "outlinewidth": 0,
             "ticks": ""
            },
            "colorscale": [
             [
              0,
              "#0d0887"
             ],
             [
              0.1111111111111111,
              "#46039f"
             ],
             [
              0.2222222222222222,
              "#7201a8"
             ],
             [
              0.3333333333333333,
              "#9c179e"
             ],
             [
              0.4444444444444444,
              "#bd3786"
             ],
             [
              0.5555555555555556,
              "#d8576b"
             ],
             [
              0.6666666666666666,
              "#ed7953"
             ],
             [
              0.7777777777777778,
              "#fb9f3a"
             ],
             [
              0.8888888888888888,
              "#fdca26"
             ],
             [
              1,
              "#f0f921"
             ]
            ],
            "type": "heatmapgl"
           }
          ],
          "histogram": [
           {
            "marker": {
             "pattern": {
              "fillmode": "overlay",
              "size": 10,
              "solidity": 0.2
             }
            },
            "type": "histogram"
           }
          ],
          "histogram2d": [
           {
            "colorbar": {
             "outlinewidth": 0,
             "ticks": ""
            },
            "colorscale": [
             [
              0,
              "#0d0887"
             ],
             [
              0.1111111111111111,
              "#46039f"
             ],
             [
              0.2222222222222222,
              "#7201a8"
             ],
             [
              0.3333333333333333,
              "#9c179e"
             ],
             [
              0.4444444444444444,
              "#bd3786"
             ],
             [
              0.5555555555555556,
              "#d8576b"
             ],
             [
              0.6666666666666666,
              "#ed7953"
             ],
             [
              0.7777777777777778,
              "#fb9f3a"
             ],
             [
              0.8888888888888888,
              "#fdca26"
             ],
             [
              1,
              "#f0f921"
             ]
            ],
            "type": "histogram2d"
           }
          ],
          "histogram2dcontour": [
           {
            "colorbar": {
             "outlinewidth": 0,
             "ticks": ""
            },
            "colorscale": [
             [
              0,
              "#0d0887"
             ],
             [
              0.1111111111111111,
              "#46039f"
             ],
             [
              0.2222222222222222,
              "#7201a8"
             ],
             [
              0.3333333333333333,
              "#9c179e"
             ],
             [
              0.4444444444444444,
              "#bd3786"
             ],
             [
              0.5555555555555556,
              "#d8576b"
             ],
             [
              0.6666666666666666,
              "#ed7953"
             ],
             [
              0.7777777777777778,
              "#fb9f3a"
             ],
             [
              0.8888888888888888,
              "#fdca26"
             ],
             [
              1,
              "#f0f921"
             ]
            ],
            "type": "histogram2dcontour"
           }
          ],
          "mesh3d": [
           {
            "colorbar": {
             "outlinewidth": 0,
             "ticks": ""
            },
            "type": "mesh3d"
           }
          ],
          "parcoords": [
           {
            "line": {
             "colorbar": {
              "outlinewidth": 0,
              "ticks": ""
             }
            },
            "type": "parcoords"
           }
          ],
          "pie": [
           {
            "automargin": true,
            "type": "pie"
           }
          ],
          "scatter": [
           {
            "marker": {
             "colorbar": {
              "outlinewidth": 0,
              "ticks": ""
             }
            },
            "type": "scatter"
           }
          ],
          "scatter3d": [
           {
            "line": {
             "colorbar": {
              "outlinewidth": 0,
              "ticks": ""
             }
            },
            "marker": {
             "colorbar": {
              "outlinewidth": 0,
              "ticks": ""
             }
            },
            "type": "scatter3d"
           }
          ],
          "scattercarpet": [
           {
            "marker": {
             "colorbar": {
              "outlinewidth": 0,
              "ticks": ""
             }
            },
            "type": "scattercarpet"
           }
          ],
          "scattergeo": [
           {
            "marker": {
             "colorbar": {
              "outlinewidth": 0,
              "ticks": ""
             }
            },
            "type": "scattergeo"
           }
          ],
          "scattergl": [
           {
            "marker": {
             "colorbar": {
              "outlinewidth": 0,
              "ticks": ""
             }
            },
            "type": "scattergl"
           }
          ],
          "scattermapbox": [
           {
            "marker": {
             "colorbar": {
              "outlinewidth": 0,
              "ticks": ""
             }
            },
            "type": "scattermapbox"
           }
          ],
          "scatterpolar": [
           {
            "marker": {
             "colorbar": {
              "outlinewidth": 0,
              "ticks": ""
             }
            },
            "type": "scatterpolar"
           }
          ],
          "scatterpolargl": [
           {
            "marker": {
             "colorbar": {
              "outlinewidth": 0,
              "ticks": ""
             }
            },
            "type": "scatterpolargl"
           }
          ],
          "scatterternary": [
           {
            "marker": {
             "colorbar": {
              "outlinewidth": 0,
              "ticks": ""
             }
            },
            "type": "scatterternary"
           }
          ],
          "surface": [
           {
            "colorbar": {
             "outlinewidth": 0,
             "ticks": ""
            },
            "colorscale": [
             [
              0,
              "#0d0887"
             ],
             [
              0.1111111111111111,
              "#46039f"
             ],
             [
              0.2222222222222222,
              "#7201a8"
             ],
             [
              0.3333333333333333,
              "#9c179e"
             ],
             [
              0.4444444444444444,
              "#bd3786"
             ],
             [
              0.5555555555555556,
              "#d8576b"
             ],
             [
              0.6666666666666666,
              "#ed7953"
             ],
             [
              0.7777777777777778,
              "#fb9f3a"
             ],
             [
              0.8888888888888888,
              "#fdca26"
             ],
             [
              1,
              "#f0f921"
             ]
            ],
            "type": "surface"
           }
          ],
          "table": [
           {
            "cells": {
             "fill": {
              "color": "#EBF0F8"
             },
             "line": {
              "color": "white"
             }
            },
            "header": {
             "fill": {
              "color": "#C8D4E3"
             },
             "line": {
              "color": "white"
             }
            },
            "type": "table"
           }
          ]
         },
         "layout": {
          "annotationdefaults": {
           "arrowcolor": "#2a3f5f",
           "arrowhead": 0,
           "arrowwidth": 1
          },
          "autotypenumbers": "strict",
          "coloraxis": {
           "colorbar": {
            "outlinewidth": 0,
            "ticks": ""
           }
          },
          "colorscale": {
           "diverging": [
            [
             0,
             "#8e0152"
            ],
            [
             0.1,
             "#c51b7d"
            ],
            [
             0.2,
             "#de77ae"
            ],
            [
             0.3,
             "#f1b6da"
            ],
            [
             0.4,
             "#fde0ef"
            ],
            [
             0.5,
             "#f7f7f7"
            ],
            [
             0.6,
             "#e6f5d0"
            ],
            [
             0.7,
             "#b8e186"
            ],
            [
             0.8,
             "#7fbc41"
            ],
            [
             0.9,
             "#4d9221"
            ],
            [
             1,
             "#276419"
            ]
           ],
           "sequential": [
            [
             0,
             "#0d0887"
            ],
            [
             0.1111111111111111,
             "#46039f"
            ],
            [
             0.2222222222222222,
             "#7201a8"
            ],
            [
             0.3333333333333333,
             "#9c179e"
            ],
            [
             0.4444444444444444,
             "#bd3786"
            ],
            [
             0.5555555555555556,
             "#d8576b"
            ],
            [
             0.6666666666666666,
             "#ed7953"
            ],
            [
             0.7777777777777778,
             "#fb9f3a"
            ],
            [
             0.8888888888888888,
             "#fdca26"
            ],
            [
             1,
             "#f0f921"
            ]
           ],
           "sequentialminus": [
            [
             0,
             "#0d0887"
            ],
            [
             0.1111111111111111,
             "#46039f"
            ],
            [
             0.2222222222222222,
             "#7201a8"
            ],
            [
             0.3333333333333333,
             "#9c179e"
            ],
            [
             0.4444444444444444,
             "#bd3786"
            ],
            [
             0.5555555555555556,
             "#d8576b"
            ],
            [
             0.6666666666666666,
             "#ed7953"
            ],
            [
             0.7777777777777778,
             "#fb9f3a"
            ],
            [
             0.8888888888888888,
             "#fdca26"
            ],
            [
             1,
             "#f0f921"
            ]
           ]
          },
          "colorway": [
           "#636efa",
           "#EF553B",
           "#00cc96",
           "#ab63fa",
           "#FFA15A",
           "#19d3f3",
           "#FF6692",
           "#B6E880",
           "#FF97FF",
           "#FECB52"
          ],
          "font": {
           "color": "#2a3f5f"
          },
          "geo": {
           "bgcolor": "white",
           "lakecolor": "white",
           "landcolor": "#E5ECF6",
           "showlakes": true,
           "showland": true,
           "subunitcolor": "white"
          },
          "hoverlabel": {
           "align": "left"
          },
          "hovermode": "closest",
          "mapbox": {
           "style": "light"
          },
          "paper_bgcolor": "white",
          "plot_bgcolor": "#E5ECF6",
          "polar": {
           "angularaxis": {
            "gridcolor": "white",
            "linecolor": "white",
            "ticks": ""
           },
           "bgcolor": "#E5ECF6",
           "radialaxis": {
            "gridcolor": "white",
            "linecolor": "white",
            "ticks": ""
           }
          },
          "scene": {
           "xaxis": {
            "backgroundcolor": "#E5ECF6",
            "gridcolor": "white",
            "gridwidth": 2,
            "linecolor": "white",
            "showbackground": true,
            "ticks": "",
            "zerolinecolor": "white"
           },
           "yaxis": {
            "backgroundcolor": "#E5ECF6",
            "gridcolor": "white",
            "gridwidth": 2,
            "linecolor": "white",
            "showbackground": true,
            "ticks": "",
            "zerolinecolor": "white"
           },
           "zaxis": {
            "backgroundcolor": "#E5ECF6",
            "gridcolor": "white",
            "gridwidth": 2,
            "linecolor": "white",
            "showbackground": true,
            "ticks": "",
            "zerolinecolor": "white"
           }
          },
          "shapedefaults": {
           "line": {
            "color": "#2a3f5f"
           }
          },
          "ternary": {
           "aaxis": {
            "gridcolor": "white",
            "linecolor": "white",
            "ticks": ""
           },
           "baxis": {
            "gridcolor": "white",
            "linecolor": "white",
            "ticks": ""
           },
           "bgcolor": "#E5ECF6",
           "caxis": {
            "gridcolor": "white",
            "linecolor": "white",
            "ticks": ""
           }
          },
          "title": {
           "x": 0.05
          },
          "xaxis": {
           "automargin": true,
           "gridcolor": "white",
           "linecolor": "white",
           "ticks": "",
           "title": {
            "standoff": 15
           },
           "zerolinecolor": "white",
           "zerolinewidth": 2
          },
          "yaxis": {
           "automargin": true,
           "gridcolor": "white",
           "linecolor": "white",
           "ticks": "",
           "title": {
            "standoff": 15
           },
           "zerolinecolor": "white",
           "zerolinewidth": 2
          }
         }
        },
        "width": 700,
        "xaxis": {
         "anchor": "y",
         "domain": [
          0,
          0.94
         ],
         "title": {
          "text": "PC1"
         }
        },
        "xaxis2": {
         "anchor": "y",
         "overlaying": "x",
         "side": "top",
         "title": {
          "text": "PC1"
         }
        },
        "yaxis": {
         "anchor": "x",
         "domain": [
          0,
          0.94
         ],
         "title": {
          "text": "PC2"
         }
        },
        "yaxis2": {
         "anchor": "x",
         "overlaying": "y",
         "side": "right",
         "title": {
          "text": "PC2"
         }
        }
       }
      }
     },
     "metadata": {},
     "output_type": "display_data"
    }
   ],
   "source": [
    "import plotly.express as px\n",
    "from plotly.subplots import make_subplots\n",
    "\n",
    "pca = PCA(n_components=5)\n",
    "Xt = pca.fit_transform(data_scaled)\n",
    "y = target\n",
    "text = [plfa.split(\" \")[2] for plfa in loadings_df.index]\n",
    "\n",
    "fig = make_subplots(specs=[[{\"secondary_y\": True}]])\n",
    "fig.add_trace(go.Scatter(x=loadings_df[\"PC1\"], y=loadings_df[\"PC2\"], mode=\"markers+text\", marker_size=1,\n",
    "                         text=text, textposition=\"top left\"), secondary_y=False)\n",
    "for i in range(len(loadings_df[\"PC1\"])):\n",
    "    fig.add_annotation(ax = 0, axref = 'x', ay = 0, ayref = 'y', x = loadings_df[\"PC1\"][i],\n",
    "                       arrowcolor='blue', xref = 'x', y =loadings_df[\"PC2\"][i],\n",
    "                       yref='y', arrowwidth=1,arrowside='end',arrowsize=1,arrowhead = 4)\n",
    "fig.update_annotations(opacity=0.3)\n",
    "\n",
    "    \n",
    "fig.update_layout(xaxis2= {'anchor': 'y', 'overlaying': 'x', 'side': 'top'},\n",
    "                  yaxis_domain=[0, 0.94], width=700, height=600, showlegend=False,\n",
    "                  margin=dict(t=0, b=0, l=0, r=0))\n",
    "\n",
    "fig.add_trace(go.Scatter(x=Xt[:,0], y=Xt[:,1], mode=\"markers+text\",\n",
    "                         text=[\"CA06a\", \"CA06b\", \"CA06c\", \"CA10\", \"CA20\", \"CA30\", \"CA43\", \"CA49\"],\n",
    "                         textposition=\"top right\",\n",
    "                         marker_symbol= \"circle\",\n",
    "                         marker_line_color=\"midnightblue\", marker_color=\"lightskyblue\",\n",
    "                         marker_line_width=2, marker_size=10,), secondary_y=True)\n",
    "fig.data[1].update(xaxis='x2')\n",
    "fig.update_xaxes(title=\"PC1\",)\n",
    "fig.update_yaxes(title=\"PC2\")\n",
    "fig.show()"
   ]
  },
  {
   "cell_type": "markdown",
   "metadata": {},
   "source": [
    "## K-means clustering"
   ]
  },
  {
   "cell_type": "markdown",
   "metadata": {},
   "source": [
    "Similarly to the PCA, the k-means clustering clustered (i.e. labeld) the shallowest samples CA06a, b, and c, CA10, and CA20 together, and the deeper CA30, CA43, and CA49 samples together."
   ]
  },
  {
   "cell_type": "code",
   "execution_count": 39,
   "metadata": {},
   "outputs": [
    {
     "data": {
      "text/plain": [
       "['shallow', 'shallow', 'shallow', 'shallow', 'shallow', 'deep', 'deep', 'deep']"
      ]
     },
     "execution_count": 39,
     "metadata": {},
     "output_type": "execute_result"
    }
   ],
   "source": [
    "from sklearn.cluster import KMeans\n",
    "import numpy as np\n",
    "\n",
    "kmeans = KMeans(n_clusters=2, random_state=0, n_init=\"auto\").fit(data_scaled)\n",
    "kmeans.labels_\n",
    "labels = [\"shallow\" if x == 0 else \"deep\" for x in kmeans.labels_]\n",
    "labels"
   ]
  },
  {
   "cell_type": "code",
   "execution_count": 40,
   "metadata": {},
   "outputs": [
    {
     "data": {
      "application/vnd.plotly.v1+json": {
       "config": {
        "plotlyServerURL": "https://plot.ly"
       },
       "data": [
        {
         "hovertemplate": "color=shallow<br>Methyl-13-methyltetradecanoate (8) i-15:0=%{x}<br>Methyl-12-methyltetradecanoate (9) a-15:0=%{y}<extra></extra>",
         "legendgroup": "shallow",
         "marker": {
          "color": "#636efa",
          "symbol": "circle"
         },
         "mode": "markers",
         "name": "shallow",
         "orientation": "v",
         "showlegend": true,
         "type": "scatter",
         "x": [
          6.50395859,
          7.928222736,
          6.848231408,
          2.892,
          3.596
         ],
         "xaxis": "x",
         "y": [
          3.214132569,
          5.626187014,
          5.618178777,
          2.14,
          2.443
         ],
         "yaxis": "y"
        },
        {
         "hovertemplate": "color=deep<br>Methyl-13-methyltetradecanoate (8) i-15:0=%{x}<br>Methyl-12-methyltetradecanoate (9) a-15:0=%{y}<extra></extra>",
         "legendgroup": "deep",
         "marker": {
          "color": "#EF553B",
          "symbol": "circle"
         },
         "mode": "markers",
         "name": "deep",
         "orientation": "v",
         "showlegend": true,
         "type": "scatter",
         "x": [
          1.313,
          0.545,
          0.056
         ],
         "xaxis": "x",
         "y": [
          1.152,
          0.362,
          0.014
         ],
         "yaxis": "y"
        }
       ],
       "layout": {
        "legend": {
         "title": {
          "text": "color"
         },
         "tracegroupgap": 0
        },
        "margin": {
         "t": 60
        },
        "template": {
         "data": {
          "bar": [
           {
            "error_x": {
             "color": "#2a3f5f"
            },
            "error_y": {
             "color": "#2a3f5f"
            },
            "marker": {
             "line": {
              "color": "#E5ECF6",
              "width": 0.5
             },
             "pattern": {
              "fillmode": "overlay",
              "size": 10,
              "solidity": 0.2
             }
            },
            "type": "bar"
           }
          ],
          "barpolar": [
           {
            "marker": {
             "line": {
              "color": "#E5ECF6",
              "width": 0.5
             },
             "pattern": {
              "fillmode": "overlay",
              "size": 10,
              "solidity": 0.2
             }
            },
            "type": "barpolar"
           }
          ],
          "carpet": [
           {
            "aaxis": {
             "endlinecolor": "#2a3f5f",
             "gridcolor": "white",
             "linecolor": "white",
             "minorgridcolor": "white",
             "startlinecolor": "#2a3f5f"
            },
            "baxis": {
             "endlinecolor": "#2a3f5f",
             "gridcolor": "white",
             "linecolor": "white",
             "minorgridcolor": "white",
             "startlinecolor": "#2a3f5f"
            },
            "type": "carpet"
           }
          ],
          "choropleth": [
           {
            "colorbar": {
             "outlinewidth": 0,
             "ticks": ""
            },
            "type": "choropleth"
           }
          ],
          "contour": [
           {
            "colorbar": {
             "outlinewidth": 0,
             "ticks": ""
            },
            "colorscale": [
             [
              0,
              "#0d0887"
             ],
             [
              0.1111111111111111,
              "#46039f"
             ],
             [
              0.2222222222222222,
              "#7201a8"
             ],
             [
              0.3333333333333333,
              "#9c179e"
             ],
             [
              0.4444444444444444,
              "#bd3786"
             ],
             [
              0.5555555555555556,
              "#d8576b"
             ],
             [
              0.6666666666666666,
              "#ed7953"
             ],
             [
              0.7777777777777778,
              "#fb9f3a"
             ],
             [
              0.8888888888888888,
              "#fdca26"
             ],
             [
              1,
              "#f0f921"
             ]
            ],
            "type": "contour"
           }
          ],
          "contourcarpet": [
           {
            "colorbar": {
             "outlinewidth": 0,
             "ticks": ""
            },
            "type": "contourcarpet"
           }
          ],
          "heatmap": [
           {
            "colorbar": {
             "outlinewidth": 0,
             "ticks": ""
            },
            "colorscale": [
             [
              0,
              "#0d0887"
             ],
             [
              0.1111111111111111,
              "#46039f"
             ],
             [
              0.2222222222222222,
              "#7201a8"
             ],
             [
              0.3333333333333333,
              "#9c179e"
             ],
             [
              0.4444444444444444,
              "#bd3786"
             ],
             [
              0.5555555555555556,
              "#d8576b"
             ],
             [
              0.6666666666666666,
              "#ed7953"
             ],
             [
              0.7777777777777778,
              "#fb9f3a"
             ],
             [
              0.8888888888888888,
              "#fdca26"
             ],
             [
              1,
              "#f0f921"
             ]
            ],
            "type": "heatmap"
           }
          ],
          "heatmapgl": [
           {
            "colorbar": {
             "outlinewidth": 0,
             "ticks": ""
            },
            "colorscale": [
             [
              0,
              "#0d0887"
             ],
             [
              0.1111111111111111,
              "#46039f"
             ],
             [
              0.2222222222222222,
              "#7201a8"
             ],
             [
              0.3333333333333333,
              "#9c179e"
             ],
             [
              0.4444444444444444,
              "#bd3786"
             ],
             [
              0.5555555555555556,
              "#d8576b"
             ],
             [
              0.6666666666666666,
              "#ed7953"
             ],
             [
              0.7777777777777778,
              "#fb9f3a"
             ],
             [
              0.8888888888888888,
              "#fdca26"
             ],
             [
              1,
              "#f0f921"
             ]
            ],
            "type": "heatmapgl"
           }
          ],
          "histogram": [
           {
            "marker": {
             "pattern": {
              "fillmode": "overlay",
              "size": 10,
              "solidity": 0.2
             }
            },
            "type": "histogram"
           }
          ],
          "histogram2d": [
           {
            "colorbar": {
             "outlinewidth": 0,
             "ticks": ""
            },
            "colorscale": [
             [
              0,
              "#0d0887"
             ],
             [
              0.1111111111111111,
              "#46039f"
             ],
             [
              0.2222222222222222,
              "#7201a8"
             ],
             [
              0.3333333333333333,
              "#9c179e"
             ],
             [
              0.4444444444444444,
              "#bd3786"
             ],
             [
              0.5555555555555556,
              "#d8576b"
             ],
             [
              0.6666666666666666,
              "#ed7953"
             ],
             [
              0.7777777777777778,
              "#fb9f3a"
             ],
             [
              0.8888888888888888,
              "#fdca26"
             ],
             [
              1,
              "#f0f921"
             ]
            ],
            "type": "histogram2d"
           }
          ],
          "histogram2dcontour": [
           {
            "colorbar": {
             "outlinewidth": 0,
             "ticks": ""
            },
            "colorscale": [
             [
              0,
              "#0d0887"
             ],
             [
              0.1111111111111111,
              "#46039f"
             ],
             [
              0.2222222222222222,
              "#7201a8"
             ],
             [
              0.3333333333333333,
              "#9c179e"
             ],
             [
              0.4444444444444444,
              "#bd3786"
             ],
             [
              0.5555555555555556,
              "#d8576b"
             ],
             [
              0.6666666666666666,
              "#ed7953"
             ],
             [
              0.7777777777777778,
              "#fb9f3a"
             ],
             [
              0.8888888888888888,
              "#fdca26"
             ],
             [
              1,
              "#f0f921"
             ]
            ],
            "type": "histogram2dcontour"
           }
          ],
          "mesh3d": [
           {
            "colorbar": {
             "outlinewidth": 0,
             "ticks": ""
            },
            "type": "mesh3d"
           }
          ],
          "parcoords": [
           {
            "line": {
             "colorbar": {
              "outlinewidth": 0,
              "ticks": ""
             }
            },
            "type": "parcoords"
           }
          ],
          "pie": [
           {
            "automargin": true,
            "type": "pie"
           }
          ],
          "scatter": [
           {
            "marker": {
             "colorbar": {
              "outlinewidth": 0,
              "ticks": ""
             }
            },
            "type": "scatter"
           }
          ],
          "scatter3d": [
           {
            "line": {
             "colorbar": {
              "outlinewidth": 0,
              "ticks": ""
             }
            },
            "marker": {
             "colorbar": {
              "outlinewidth": 0,
              "ticks": ""
             }
            },
            "type": "scatter3d"
           }
          ],
          "scattercarpet": [
           {
            "marker": {
             "colorbar": {
              "outlinewidth": 0,
              "ticks": ""
             }
            },
            "type": "scattercarpet"
           }
          ],
          "scattergeo": [
           {
            "marker": {
             "colorbar": {
              "outlinewidth": 0,
              "ticks": ""
             }
            },
            "type": "scattergeo"
           }
          ],
          "scattergl": [
           {
            "marker": {
             "colorbar": {
              "outlinewidth": 0,
              "ticks": ""
             }
            },
            "type": "scattergl"
           }
          ],
          "scattermapbox": [
           {
            "marker": {
             "colorbar": {
              "outlinewidth": 0,
              "ticks": ""
             }
            },
            "type": "scattermapbox"
           }
          ],
          "scatterpolar": [
           {
            "marker": {
             "colorbar": {
              "outlinewidth": 0,
              "ticks": ""
             }
            },
            "type": "scatterpolar"
           }
          ],
          "scatterpolargl": [
           {
            "marker": {
             "colorbar": {
              "outlinewidth": 0,
              "ticks": ""
             }
            },
            "type": "scatterpolargl"
           }
          ],
          "scatterternary": [
           {
            "marker": {
             "colorbar": {
              "outlinewidth": 0,
              "ticks": ""
             }
            },
            "type": "scatterternary"
           }
          ],
          "surface": [
           {
            "colorbar": {
             "outlinewidth": 0,
             "ticks": ""
            },
            "colorscale": [
             [
              0,
              "#0d0887"
             ],
             [
              0.1111111111111111,
              "#46039f"
             ],
             [
              0.2222222222222222,
              "#7201a8"
             ],
             [
              0.3333333333333333,
              "#9c179e"
             ],
             [
              0.4444444444444444,
              "#bd3786"
             ],
             [
              0.5555555555555556,
              "#d8576b"
             ],
             [
              0.6666666666666666,
              "#ed7953"
             ],
             [
              0.7777777777777778,
              "#fb9f3a"
             ],
             [
              0.8888888888888888,
              "#fdca26"
             ],
             [
              1,
              "#f0f921"
             ]
            ],
            "type": "surface"
           }
          ],
          "table": [
           {
            "cells": {
             "fill": {
              "color": "#EBF0F8"
             },
             "line": {
              "color": "white"
             }
            },
            "header": {
             "fill": {
              "color": "#C8D4E3"
             },
             "line": {
              "color": "white"
             }
            },
            "type": "table"
           }
          ]
         },
         "layout": {
          "annotationdefaults": {
           "arrowcolor": "#2a3f5f",
           "arrowhead": 0,
           "arrowwidth": 1
          },
          "autotypenumbers": "strict",
          "coloraxis": {
           "colorbar": {
            "outlinewidth": 0,
            "ticks": ""
           }
          },
          "colorscale": {
           "diverging": [
            [
             0,
             "#8e0152"
            ],
            [
             0.1,
             "#c51b7d"
            ],
            [
             0.2,
             "#de77ae"
            ],
            [
             0.3,
             "#f1b6da"
            ],
            [
             0.4,
             "#fde0ef"
            ],
            [
             0.5,
             "#f7f7f7"
            ],
            [
             0.6,
             "#e6f5d0"
            ],
            [
             0.7,
             "#b8e186"
            ],
            [
             0.8,
             "#7fbc41"
            ],
            [
             0.9,
             "#4d9221"
            ],
            [
             1,
             "#276419"
            ]
           ],
           "sequential": [
            [
             0,
             "#0d0887"
            ],
            [
             0.1111111111111111,
             "#46039f"
            ],
            [
             0.2222222222222222,
             "#7201a8"
            ],
            [
             0.3333333333333333,
             "#9c179e"
            ],
            [
             0.4444444444444444,
             "#bd3786"
            ],
            [
             0.5555555555555556,
             "#d8576b"
            ],
            [
             0.6666666666666666,
             "#ed7953"
            ],
            [
             0.7777777777777778,
             "#fb9f3a"
            ],
            [
             0.8888888888888888,
             "#fdca26"
            ],
            [
             1,
             "#f0f921"
            ]
           ],
           "sequentialminus": [
            [
             0,
             "#0d0887"
            ],
            [
             0.1111111111111111,
             "#46039f"
            ],
            [
             0.2222222222222222,
             "#7201a8"
            ],
            [
             0.3333333333333333,
             "#9c179e"
            ],
            [
             0.4444444444444444,
             "#bd3786"
            ],
            [
             0.5555555555555556,
             "#d8576b"
            ],
            [
             0.6666666666666666,
             "#ed7953"
            ],
            [
             0.7777777777777778,
             "#fb9f3a"
            ],
            [
             0.8888888888888888,
             "#fdca26"
            ],
            [
             1,
             "#f0f921"
            ]
           ]
          },
          "colorway": [
           "#636efa",
           "#EF553B",
           "#00cc96",
           "#ab63fa",
           "#FFA15A",
           "#19d3f3",
           "#FF6692",
           "#B6E880",
           "#FF97FF",
           "#FECB52"
          ],
          "font": {
           "color": "#2a3f5f"
          },
          "geo": {
           "bgcolor": "white",
           "lakecolor": "white",
           "landcolor": "#E5ECF6",
           "showlakes": true,
           "showland": true,
           "subunitcolor": "white"
          },
          "hoverlabel": {
           "align": "left"
          },
          "hovermode": "closest",
          "mapbox": {
           "style": "light"
          },
          "paper_bgcolor": "white",
          "plot_bgcolor": "#E5ECF6",
          "polar": {
           "angularaxis": {
            "gridcolor": "white",
            "linecolor": "white",
            "ticks": ""
           },
           "bgcolor": "#E5ECF6",
           "radialaxis": {
            "gridcolor": "white",
            "linecolor": "white",
            "ticks": ""
           }
          },
          "scene": {
           "xaxis": {
            "backgroundcolor": "#E5ECF6",
            "gridcolor": "white",
            "gridwidth": 2,
            "linecolor": "white",
            "showbackground": true,
            "ticks": "",
            "zerolinecolor": "white"
           },
           "yaxis": {
            "backgroundcolor": "#E5ECF6",
            "gridcolor": "white",
            "gridwidth": 2,
            "linecolor": "white",
            "showbackground": true,
            "ticks": "",
            "zerolinecolor": "white"
           },
           "zaxis": {
            "backgroundcolor": "#E5ECF6",
            "gridcolor": "white",
            "gridwidth": 2,
            "linecolor": "white",
            "showbackground": true,
            "ticks": "",
            "zerolinecolor": "white"
           }
          },
          "shapedefaults": {
           "line": {
            "color": "#2a3f5f"
           }
          },
          "ternary": {
           "aaxis": {
            "gridcolor": "white",
            "linecolor": "white",
            "ticks": ""
           },
           "baxis": {
            "gridcolor": "white",
            "linecolor": "white",
            "ticks": ""
           },
           "bgcolor": "#E5ECF6",
           "caxis": {
            "gridcolor": "white",
            "linecolor": "white",
            "ticks": ""
           }
          },
          "title": {
           "x": 0.05
          },
          "xaxis": {
           "automargin": true,
           "gridcolor": "white",
           "linecolor": "white",
           "ticks": "",
           "title": {
            "standoff": 15
           },
           "zerolinecolor": "white",
           "zerolinewidth": 2
          },
          "yaxis": {
           "automargin": true,
           "gridcolor": "white",
           "linecolor": "white",
           "ticks": "",
           "title": {
            "standoff": 15
           },
           "zerolinecolor": "white",
           "zerolinewidth": 2
          }
         }
        },
        "xaxis": {
         "anchor": "y",
         "domain": [
          0,
          1
         ],
         "title": {
          "text": "Methyl-13-methyltetradecanoate (8) i-15:0"
         }
        },
        "yaxis": {
         "anchor": "x",
         "domain": [
          0,
          1
         ],
         "title": {
          "text": "Methyl-12-methyltetradecanoate (9) a-15:0"
         }
        }
       }
      }
     },
     "metadata": {},
     "output_type": "display_data"
    }
   ],
   "source": [
    "px.scatter(data_frame=plfa_dataset, x=\"Methyl-13-methyltetradecanoate (8) i-15:0\", y=\"Methyl-12-methyltetradecanoate (9) a-15:0\", color=labels)"
   ]
  },
  {
   "cell_type": "markdown",
   "metadata": {},
   "source": [
    "## Hierarchical clustering (dendrogram)"
   ]
  },
  {
   "cell_type": "code",
   "execution_count": 42,
   "metadata": {},
   "outputs": [
    {
     "data": {
      "application/vnd.plotly.v1+json": {
       "config": {
        "plotlyServerURL": "https://plot.ly"
       },
       "data": [
        {
         "hoverinfo": "text",
         "marker": {
          "color": "rgb(61,153,112)"
         },
         "mode": "lines",
         "type": "scatter",
         "x": [
          15,
          15,
          25,
          25
         ],
         "xaxis": "x",
         "y": [
          0,
          1.1911996642550369,
          1.1911996642550369,
          0
         ],
         "yaxis": "y2"
        },
        {
         "hoverinfo": "text",
         "marker": {
          "color": "rgb(61,153,112)"
         },
         "mode": "lines",
         "type": "scatter",
         "x": [
          5,
          5,
          20,
          20
         ],
         "xaxis": "x",
         "y": [
          0,
          2.914254652002793,
          2.914254652002793,
          1.1911996642550369
         ],
         "yaxis": "y2"
        },
        {
         "hoverinfo": "text",
         "marker": {
          "color": "rgb(255,65,54)"
         },
         "mode": "lines",
         "type": "scatter",
         "x": [
          35,
          35,
          45,
          45
         ],
         "xaxis": "x",
         "y": [
          0,
          0.5546205302429787,
          0.5546205302429787,
          0
         ],
         "yaxis": "y2"
        },
        {
         "hoverinfo": "text",
         "marker": {
          "color": "rgb(35,205,205)"
         },
         "mode": "lines",
         "type": "scatter",
         "x": [
          65,
          65,
          75,
          75
         ],
         "xaxis": "x",
         "y": [
          0,
          1.138624069636525,
          1.138624069636525,
          0
         ],
         "yaxis": "y2"
        },
        {
         "hoverinfo": "text",
         "marker": {
          "color": "rgb(35,205,205)"
         },
         "mode": "lines",
         "type": "scatter",
         "x": [
          55,
          55,
          70,
          70
         ],
         "xaxis": "x",
         "y": [
          0,
          1.7789565815148458,
          1.7789565815148458,
          1.138624069636525
         ],
         "yaxis": "y2"
        },
        {
         "hoverinfo": "text",
         "marker": {
          "color": "rgb(0,116,217)"
         },
         "mode": "lines",
         "type": "scatter",
         "x": [
          40,
          40,
          62.5,
          62.5
         ],
         "xaxis": "x",
         "y": [
          0.5546205302429787,
          3.6303642801319724,
          3.6303642801319724,
          1.7789565815148458
         ],
         "yaxis": "y2"
        },
        {
         "hoverinfo": "text",
         "marker": {
          "color": "rgb(0,116,217)"
         },
         "mode": "lines",
         "type": "scatter",
         "x": [
          12.5,
          12.5,
          51.25,
          51.25
         ],
         "xaxis": "x",
         "y": [
          2.914254652002793,
          4.867809595448333,
          4.867809595448333,
          3.6303642801319724
         ],
         "yaxis": "y2"
        },
        {
         "hoverinfo": "text",
         "marker": {
          "color": "rgb(61,153,112)"
         },
         "mode": "lines",
         "type": "scatter",
         "x": [
          0,
          -1.1911996642550369,
          -1.1911996642550369,
          0
         ],
         "xaxis": "x2",
         "y": [
          15,
          15,
          25,
          25
         ],
         "yaxis": "y"
        },
        {
         "hoverinfo": "text",
         "marker": {
          "color": "rgb(61,153,112)"
         },
         "mode": "lines",
         "type": "scatter",
         "x": [
          0,
          -2.914254652002793,
          -2.914254652002793,
          -1.1911996642550369
         ],
         "xaxis": "x2",
         "y": [
          5,
          5,
          20,
          20
         ],
         "yaxis": "y"
        },
        {
         "hoverinfo": "text",
         "marker": {
          "color": "rgb(255,65,54)"
         },
         "mode": "lines",
         "type": "scatter",
         "x": [
          0,
          -0.5546205302429787,
          -0.5546205302429787,
          0
         ],
         "xaxis": "x2",
         "y": [
          35,
          35,
          45,
          45
         ],
         "yaxis": "y"
        },
        {
         "hoverinfo": "text",
         "marker": {
          "color": "rgb(35,205,205)"
         },
         "mode": "lines",
         "type": "scatter",
         "x": [
          0,
          -1.138624069636525,
          -1.138624069636525,
          0
         ],
         "xaxis": "x2",
         "y": [
          65,
          65,
          75,
          75
         ],
         "yaxis": "y"
        },
        {
         "hoverinfo": "text",
         "marker": {
          "color": "rgb(35,205,205)"
         },
         "mode": "lines",
         "type": "scatter",
         "x": [
          0,
          -1.7789565815148458,
          -1.7789565815148458,
          -1.138624069636525
         ],
         "xaxis": "x2",
         "y": [
          55,
          55,
          70,
          70
         ],
         "yaxis": "y"
        },
        {
         "hoverinfo": "text",
         "marker": {
          "color": "rgb(0,116,217)"
         },
         "mode": "lines",
         "type": "scatter",
         "x": [
          -0.5546205302429787,
          -3.6303642801319724,
          -3.6303642801319724,
          -1.7789565815148458
         ],
         "xaxis": "x2",
         "y": [
          40,
          40,
          62.5,
          62.5
         ],
         "yaxis": "y"
        },
        {
         "hoverinfo": "text",
         "marker": {
          "color": "rgb(0,116,217)"
         },
         "mode": "lines",
         "type": "scatter",
         "x": [
          -2.914254652002793,
          -4.867809595448333,
          -4.867809595448333,
          -3.6303642801319724
         ],
         "xaxis": "x2",
         "y": [
          12.5,
          12.5,
          51.25,
          51.25
         ],
         "yaxis": "y"
        },
        {
         "colorscale": [
          [
           0,
           "rgb(247,251,255)"
          ],
          [
           0.125,
           "rgb(222,235,247)"
          ],
          [
           0.25,
           "rgb(198,219,239)"
          ],
          [
           0.375,
           "rgb(158,202,225)"
          ],
          [
           0.5,
           "rgb(107,174,214)"
          ],
          [
           0.625,
           "rgb(66,146,198)"
          ],
          [
           0.75,
           "rgb(33,113,181)"
          ],
          [
           0.875,
           "rgb(8,81,156)"
          ],
          [
           1,
           "rgb(8,48,107)"
          ]
         ],
         "type": "heatmap",
         "x": [
          5,
          15,
          25,
          35,
          45,
          55,
          65,
          75
         ],
         "y": [
          5,
          15,
          25,
          35,
          45,
          55,
          65,
          75
         ],
         "z": [
          [
           0,
           2.914254652002793,
           2.473565530684257,
           2.831268524044467,
           2.964870527334733,
           3.0351487617852895,
           3.2046700680793876,
           3.9555376251397187
          ],
          [
           2.914254652002793,
           0,
           1.1911996642550369,
           4.150169829666082,
           4.392582439744838,
           4.064649112152465,
           4.301868847658777,
           4.797395219680204
          ],
          [
           2.473565530684257,
           1.1911996642550369,
           0,
           4.351845757694017,
           4.602864950885701,
           4.099730894753256,
           4.325347563215501,
           4.867809595448333
          ],
          [
           2.831268524044467,
           4.150169829666082,
           4.351845757694017,
           0,
           0.5546205302429787,
           3.2812996793070575,
           3.1591400315067046,
           3.5857242382703443
          ],
          [
           2.964870527334733,
           4.392582439744838,
           4.602864950885701,
           0.5546205302429787,
           0,
           3.310085793760905,
           3.159868527715246,
           3.6303642801319724
          ],
          [
           3.0351487617852895,
           4.064649112152465,
           4.099730894753256,
           3.2812996793070575,
           3.310085793760905,
           0,
           1.390934890101272,
           1.7789565815148458
          ],
          [
           3.2046700680793876,
           4.301868847658777,
           4.325347563215501,
           3.1591400315067046,
           3.159868527715246,
           1.390934890101272,
           0,
           1.138624069636525
          ],
          [
           3.9555376251397187,
           4.797395219680204,
           4.867809595448333,
           3.5857242382703443,
           3.6303642801319724,
           1.7789565815148458,
           1.138624069636525,
           0
          ]
         ]
        }
       ],
       "layout": {
        "autosize": false,
        "height": 800,
        "hovermode": "closest",
        "showlegend": false,
        "template": {
         "data": {
          "bar": [
           {
            "error_x": {
             "color": "#2a3f5f"
            },
            "error_y": {
             "color": "#2a3f5f"
            },
            "marker": {
             "line": {
              "color": "#E5ECF6",
              "width": 0.5
             },
             "pattern": {
              "fillmode": "overlay",
              "size": 10,
              "solidity": 0.2
             }
            },
            "type": "bar"
           }
          ],
          "barpolar": [
           {
            "marker": {
             "line": {
              "color": "#E5ECF6",
              "width": 0.5
             },
             "pattern": {
              "fillmode": "overlay",
              "size": 10,
              "solidity": 0.2
             }
            },
            "type": "barpolar"
           }
          ],
          "carpet": [
           {
            "aaxis": {
             "endlinecolor": "#2a3f5f",
             "gridcolor": "white",
             "linecolor": "white",
             "minorgridcolor": "white",
             "startlinecolor": "#2a3f5f"
            },
            "baxis": {
             "endlinecolor": "#2a3f5f",
             "gridcolor": "white",
             "linecolor": "white",
             "minorgridcolor": "white",
             "startlinecolor": "#2a3f5f"
            },
            "type": "carpet"
           }
          ],
          "choropleth": [
           {
            "colorbar": {
             "outlinewidth": 0,
             "ticks": ""
            },
            "type": "choropleth"
           }
          ],
          "contour": [
           {
            "colorbar": {
             "outlinewidth": 0,
             "ticks": ""
            },
            "colorscale": [
             [
              0,
              "#0d0887"
             ],
             [
              0.1111111111111111,
              "#46039f"
             ],
             [
              0.2222222222222222,
              "#7201a8"
             ],
             [
              0.3333333333333333,
              "#9c179e"
             ],
             [
              0.4444444444444444,
              "#bd3786"
             ],
             [
              0.5555555555555556,
              "#d8576b"
             ],
             [
              0.6666666666666666,
              "#ed7953"
             ],
             [
              0.7777777777777778,
              "#fb9f3a"
             ],
             [
              0.8888888888888888,
              "#fdca26"
             ],
             [
              1,
              "#f0f921"
             ]
            ],
            "type": "contour"
           }
          ],
          "contourcarpet": [
           {
            "colorbar": {
             "outlinewidth": 0,
             "ticks": ""
            },
            "type": "contourcarpet"
           }
          ],
          "heatmap": [
           {
            "colorbar": {
             "outlinewidth": 0,
             "ticks": ""
            },
            "colorscale": [
             [
              0,
              "#0d0887"
             ],
             [
              0.1111111111111111,
              "#46039f"
             ],
             [
              0.2222222222222222,
              "#7201a8"
             ],
             [
              0.3333333333333333,
              "#9c179e"
             ],
             [
              0.4444444444444444,
              "#bd3786"
             ],
             [
              0.5555555555555556,
              "#d8576b"
             ],
             [
              0.6666666666666666,
              "#ed7953"
             ],
             [
              0.7777777777777778,
              "#fb9f3a"
             ],
             [
              0.8888888888888888,
              "#fdca26"
             ],
             [
              1,
              "#f0f921"
             ]
            ],
            "type": "heatmap"
           }
          ],
          "heatmapgl": [
           {
            "colorbar": {
             "outlinewidth": 0,
             "ticks": ""
            },
            "colorscale": [
             [
              0,
              "#0d0887"
             ],
             [
              0.1111111111111111,
              "#46039f"
             ],
             [
              0.2222222222222222,
              "#7201a8"
             ],
             [
              0.3333333333333333,
              "#9c179e"
             ],
             [
              0.4444444444444444,
              "#bd3786"
             ],
             [
              0.5555555555555556,
              "#d8576b"
             ],
             [
              0.6666666666666666,
              "#ed7953"
             ],
             [
              0.7777777777777778,
              "#fb9f3a"
             ],
             [
              0.8888888888888888,
              "#fdca26"
             ],
             [
              1,
              "#f0f921"
             ]
            ],
            "type": "heatmapgl"
           }
          ],
          "histogram": [
           {
            "marker": {
             "pattern": {
              "fillmode": "overlay",
              "size": 10,
              "solidity": 0.2
             }
            },
            "type": "histogram"
           }
          ],
          "histogram2d": [
           {
            "colorbar": {
             "outlinewidth": 0,
             "ticks": ""
            },
            "colorscale": [
             [
              0,
              "#0d0887"
             ],
             [
              0.1111111111111111,
              "#46039f"
             ],
             [
              0.2222222222222222,
              "#7201a8"
             ],
             [
              0.3333333333333333,
              "#9c179e"
             ],
             [
              0.4444444444444444,
              "#bd3786"
             ],
             [
              0.5555555555555556,
              "#d8576b"
             ],
             [
              0.6666666666666666,
              "#ed7953"
             ],
             [
              0.7777777777777778,
              "#fb9f3a"
             ],
             [
              0.8888888888888888,
              "#fdca26"
             ],
             [
              1,
              "#f0f921"
             ]
            ],
            "type": "histogram2d"
           }
          ],
          "histogram2dcontour": [
           {
            "colorbar": {
             "outlinewidth": 0,
             "ticks": ""
            },
            "colorscale": [
             [
              0,
              "#0d0887"
             ],
             [
              0.1111111111111111,
              "#46039f"
             ],
             [
              0.2222222222222222,
              "#7201a8"
             ],
             [
              0.3333333333333333,
              "#9c179e"
             ],
             [
              0.4444444444444444,
              "#bd3786"
             ],
             [
              0.5555555555555556,
              "#d8576b"
             ],
             [
              0.6666666666666666,
              "#ed7953"
             ],
             [
              0.7777777777777778,
              "#fb9f3a"
             ],
             [
              0.8888888888888888,
              "#fdca26"
             ],
             [
              1,
              "#f0f921"
             ]
            ],
            "type": "histogram2dcontour"
           }
          ],
          "mesh3d": [
           {
            "colorbar": {
             "outlinewidth": 0,
             "ticks": ""
            },
            "type": "mesh3d"
           }
          ],
          "parcoords": [
           {
            "line": {
             "colorbar": {
              "outlinewidth": 0,
              "ticks": ""
             }
            },
            "type": "parcoords"
           }
          ],
          "pie": [
           {
            "automargin": true,
            "type": "pie"
           }
          ],
          "scatter": [
           {
            "marker": {
             "colorbar": {
              "outlinewidth": 0,
              "ticks": ""
             }
            },
            "type": "scatter"
           }
          ],
          "scatter3d": [
           {
            "line": {
             "colorbar": {
              "outlinewidth": 0,
              "ticks": ""
             }
            },
            "marker": {
             "colorbar": {
              "outlinewidth": 0,
              "ticks": ""
             }
            },
            "type": "scatter3d"
           }
          ],
          "scattercarpet": [
           {
            "marker": {
             "colorbar": {
              "outlinewidth": 0,
              "ticks": ""
             }
            },
            "type": "scattercarpet"
           }
          ],
          "scattergeo": [
           {
            "marker": {
             "colorbar": {
              "outlinewidth": 0,
              "ticks": ""
             }
            },
            "type": "scattergeo"
           }
          ],
          "scattergl": [
           {
            "marker": {
             "colorbar": {
              "outlinewidth": 0,
              "ticks": ""
             }
            },
            "type": "scattergl"
           }
          ],
          "scattermapbox": [
           {
            "marker": {
             "colorbar": {
              "outlinewidth": 0,
              "ticks": ""
             }
            },
            "type": "scattermapbox"
           }
          ],
          "scatterpolar": [
           {
            "marker": {
             "colorbar": {
              "outlinewidth": 0,
              "ticks": ""
             }
            },
            "type": "scatterpolar"
           }
          ],
          "scatterpolargl": [
           {
            "marker": {
             "colorbar": {
              "outlinewidth": 0,
              "ticks": ""
             }
            },
            "type": "scatterpolargl"
           }
          ],
          "scatterternary": [
           {
            "marker": {
             "colorbar": {
              "outlinewidth": 0,
              "ticks": ""
             }
            },
            "type": "scatterternary"
           }
          ],
          "surface": [
           {
            "colorbar": {
             "outlinewidth": 0,
             "ticks": ""
            },
            "colorscale": [
             [
              0,
              "#0d0887"
             ],
             [
              0.1111111111111111,
              "#46039f"
             ],
             [
              0.2222222222222222,
              "#7201a8"
             ],
             [
              0.3333333333333333,
              "#9c179e"
             ],
             [
              0.4444444444444444,
              "#bd3786"
             ],
             [
              0.5555555555555556,
              "#d8576b"
             ],
             [
              0.6666666666666666,
              "#ed7953"
             ],
             [
              0.7777777777777778,
              "#fb9f3a"
             ],
             [
              0.8888888888888888,
              "#fdca26"
             ],
             [
              1,
              "#f0f921"
             ]
            ],
            "type": "surface"
           }
          ],
          "table": [
           {
            "cells": {
             "fill": {
              "color": "#EBF0F8"
             },
             "line": {
              "color": "white"
             }
            },
            "header": {
             "fill": {
              "color": "#C8D4E3"
             },
             "line": {
              "color": "white"
             }
            },
            "type": "table"
           }
          ]
         },
         "layout": {
          "annotationdefaults": {
           "arrowcolor": "#2a3f5f",
           "arrowhead": 0,
           "arrowwidth": 1
          },
          "autotypenumbers": "strict",
          "coloraxis": {
           "colorbar": {
            "outlinewidth": 0,
            "ticks": ""
           }
          },
          "colorscale": {
           "diverging": [
            [
             0,
             "#8e0152"
            ],
            [
             0.1,
             "#c51b7d"
            ],
            [
             0.2,
             "#de77ae"
            ],
            [
             0.3,
             "#f1b6da"
            ],
            [
             0.4,
             "#fde0ef"
            ],
            [
             0.5,
             "#f7f7f7"
            ],
            [
             0.6,
             "#e6f5d0"
            ],
            [
             0.7,
             "#b8e186"
            ],
            [
             0.8,
             "#7fbc41"
            ],
            [
             0.9,
             "#4d9221"
            ],
            [
             1,
             "#276419"
            ]
           ],
           "sequential": [
            [
             0,
             "#0d0887"
            ],
            [
             0.1111111111111111,
             "#46039f"
            ],
            [
             0.2222222222222222,
             "#7201a8"
            ],
            [
             0.3333333333333333,
             "#9c179e"
            ],
            [
             0.4444444444444444,
             "#bd3786"
            ],
            [
             0.5555555555555556,
             "#d8576b"
            ],
            [
             0.6666666666666666,
             "#ed7953"
            ],
            [
             0.7777777777777778,
             "#fb9f3a"
            ],
            [
             0.8888888888888888,
             "#fdca26"
            ],
            [
             1,
             "#f0f921"
            ]
           ],
           "sequentialminus": [
            [
             0,
             "#0d0887"
            ],
            [
             0.1111111111111111,
             "#46039f"
            ],
            [
             0.2222222222222222,
             "#7201a8"
            ],
            [
             0.3333333333333333,
             "#9c179e"
            ],
            [
             0.4444444444444444,
             "#bd3786"
            ],
            [
             0.5555555555555556,
             "#d8576b"
            ],
            [
             0.6666666666666666,
             "#ed7953"
            ],
            [
             0.7777777777777778,
             "#fb9f3a"
            ],
            [
             0.8888888888888888,
             "#fdca26"
            ],
            [
             1,
             "#f0f921"
            ]
           ]
          },
          "colorway": [
           "#636efa",
           "#EF553B",
           "#00cc96",
           "#ab63fa",
           "#FFA15A",
           "#19d3f3",
           "#FF6692",
           "#B6E880",
           "#FF97FF",
           "#FECB52"
          ],
          "font": {
           "color": "#2a3f5f"
          },
          "geo": {
           "bgcolor": "white",
           "lakecolor": "white",
           "landcolor": "#E5ECF6",
           "showlakes": true,
           "showland": true,
           "subunitcolor": "white"
          },
          "hoverlabel": {
           "align": "left"
          },
          "hovermode": "closest",
          "mapbox": {
           "style": "light"
          },
          "paper_bgcolor": "white",
          "plot_bgcolor": "#E5ECF6",
          "polar": {
           "angularaxis": {
            "gridcolor": "white",
            "linecolor": "white",
            "ticks": ""
           },
           "bgcolor": "#E5ECF6",
           "radialaxis": {
            "gridcolor": "white",
            "linecolor": "white",
            "ticks": ""
           }
          },
          "scene": {
           "xaxis": {
            "backgroundcolor": "#E5ECF6",
            "gridcolor": "white",
            "gridwidth": 2,
            "linecolor": "white",
            "showbackground": true,
            "ticks": "",
            "zerolinecolor": "white"
           },
           "yaxis": {
            "backgroundcolor": "#E5ECF6",
            "gridcolor": "white",
            "gridwidth": 2,
            "linecolor": "white",
            "showbackground": true,
            "ticks": "",
            "zerolinecolor": "white"
           },
           "zaxis": {
            "backgroundcolor": "#E5ECF6",
            "gridcolor": "white",
            "gridwidth": 2,
            "linecolor": "white",
            "showbackground": true,
            "ticks": "",
            "zerolinecolor": "white"
           }
          },
          "shapedefaults": {
           "line": {
            "color": "#2a3f5f"
           }
          },
          "ternary": {
           "aaxis": {
            "gridcolor": "white",
            "linecolor": "white",
            "ticks": ""
           },
           "baxis": {
            "gridcolor": "white",
            "linecolor": "white",
            "ticks": ""
           },
           "bgcolor": "#E5ECF6",
           "caxis": {
            "gridcolor": "white",
            "linecolor": "white",
            "ticks": ""
           }
          },
          "title": {
           "x": 0.05
          },
          "xaxis": {
           "automargin": true,
           "gridcolor": "white",
           "linecolor": "white",
           "ticks": "",
           "title": {
            "standoff": 15
           },
           "zerolinecolor": "white",
           "zerolinewidth": 2
          },
          "yaxis": {
           "automargin": true,
           "gridcolor": "white",
           "linecolor": "white",
           "ticks": "",
           "title": {
            "standoff": 15
           },
           "zerolinecolor": "white",
           "zerolinewidth": 2
          }
         }
        },
        "width": 800,
        "xaxis": {
         "domain": [
          0.15,
          1
         ],
         "mirror": false,
         "rangemode": "tozero",
         "showgrid": false,
         "showline": false,
         "showticklabels": true,
         "tickmode": "array",
         "ticks": "",
         "ticktext": [
          "CA30",
          "CA43",
          "CA49",
          "CA10",
          "CA20",
          "CA06a",
          "CA06b",
          "CA06c"
         ],
         "tickvals": [
          5,
          15,
          25,
          35,
          45,
          55,
          65,
          75
         ],
         "type": "linear",
         "zeroline": false
        },
        "xaxis2": {
         "domain": [
          0,
          0.15
         ],
         "mirror": false,
         "showgrid": false,
         "showline": false,
         "showticklabels": false,
         "ticks": "",
         "zeroline": false
        },
        "yaxis": {
         "domain": [
          0,
          0.85
         ],
         "mirror": false,
         "rangemode": "tozero",
         "showgrid": false,
         "showline": false,
         "showticklabels": false,
         "ticks": "",
         "type": "linear",
         "zeroline": false
        },
        "yaxis2": {
         "domain": [
          0.825,
          0.975
         ],
         "mirror": false,
         "showgrid": false,
         "showline": false,
         "showticklabels": false,
         "ticks": "",
         "zeroline": false
        }
       }
      }
     },
     "metadata": {},
     "output_type": "display_data"
    }
   ],
   "source": [
    "import plotly.graph_objects as go\n",
    "import plotly.figure_factory as ff\n",
    "\n",
    "import numpy as np\n",
    "from scipy.spatial.distance import pdist, squareform\n",
    "\n",
    "\n",
    "# get data\n",
    "data_array = data_scaled\n",
    "labels = [\"CA06a\", \"CA06b\", \"CA06c\", \"CA10\", \"CA20\", \"CA30\", \"CA43\", \"CA49\"]\n",
    "\n",
    "# Initialize figure by creating upper dendrogram\n",
    "fig = ff.create_dendrogram(data_array, orientation='bottom', labels=labels)\n",
    "for i in range(len(fig['data'])):\n",
    "    fig['data'][i]['yaxis'] = 'y2'\n",
    "\n",
    "# Create Side Dendrogram\n",
    "dendro_side = ff.create_dendrogram(data_array, orientation='right')\n",
    "for i in range(len(dendro_side['data'])):\n",
    "    dendro_side['data'][i]['xaxis'] = 'x2'\n",
    "\n",
    "# Add Side Dendrogram Data to Figure\n",
    "for data in dendro_side['data']:\n",
    "    fig.add_trace(data)\n",
    "\n",
    "# Create Heatmap\n",
    "dendro_leaves = dendro_side['layout']['yaxis']['ticktext']\n",
    "dendro_leaves = list(map(int, dendro_leaves))\n",
    "data_dist = pdist(data_array)\n",
    "heat_data = squareform(data_dist)\n",
    "heat_data = heat_data[dendro_leaves,:]\n",
    "heat_data = heat_data[:,dendro_leaves]\n",
    "\n",
    "heatmap = [\n",
    "    go.Heatmap(\n",
    "        x = dendro_leaves,\n",
    "        y = dendro_leaves,\n",
    "        z = heat_data,\n",
    "        colorscale = 'Blues'\n",
    "    )\n",
    "]\n",
    "\n",
    "heatmap[0]['x'] = fig['layout']['xaxis']['tickvals']\n",
    "heatmap[0]['y'] = dendro_side['layout']['yaxis']['tickvals']\n",
    "\n",
    "# Add Heatmap Data to Figure\n",
    "for data in heatmap:\n",
    "    fig.add_trace(data)\n",
    "\n",
    "# Edit Layout\n",
    "fig.update_layout({'width':800, 'height':800,\n",
    "                         'showlegend':False, 'hovermode': 'closest',\n",
    "                         })\n",
    "# Edit xaxis\n",
    "fig.update_layout(xaxis={'domain': [.15, 1],\n",
    "                                  'mirror': False,\n",
    "                                  'showgrid': False,\n",
    "                                  'showline': False,\n",
    "                                  'zeroline': False,\n",
    "                                  'ticks':\"\"})\n",
    "# Edit xaxis2\n",
    "fig.update_layout(xaxis2={'domain': [0, .15],\n",
    "                                   'mirror': False,\n",
    "                                   'showgrid': False,\n",
    "                                   'showline': False,\n",
    "                                   'zeroline': False,\n",
    "                                   'showticklabels': False,\n",
    "                                   'ticks':\"\"})\n",
    "\n",
    "# Edit yaxis\n",
    "fig.update_layout(yaxis={'domain': [0, .85],\n",
    "                                  'mirror': False,\n",
    "                                  'showgrid': False,\n",
    "                                  'showline': False,\n",
    "                                  'zeroline': False,\n",
    "                                  'showticklabels': False,\n",
    "                                  'ticks': \"\"\n",
    "                        })\n",
    "# Edit yaxis2\n",
    "fig.update_layout(yaxis2={'domain':[.825, .975],\n",
    "                                   'mirror': False,\n",
    "                                   'showgrid': False,\n",
    "                                   'showline': False,\n",
    "                                   'zeroline': False,\n",
    "                                   'showticklabels': False,\n",
    "                                   'ticks':\"\"})\n",
    "\n",
    "# Plot!\n",
    "fig.show()"
   ]
  },
  {
   "cell_type": "code",
   "execution_count": null,
   "metadata": {},
   "outputs": [],
   "source": []
  }
 ],
 "metadata": {
  "kernelspec": {
   "display_name": "lewagon_current",
   "language": "python",
   "name": "python3"
  },
  "language_info": {
   "codemirror_mode": {
    "name": "ipython",
    "version": 3
   },
   "file_extension": ".py",
   "mimetype": "text/x-python",
   "name": "python",
   "nbconvert_exporter": "python",
   "pygments_lexer": "ipython3",
   "version": "3.8.12"
  }
 },
 "nbformat": 4,
 "nbformat_minor": 2
}
